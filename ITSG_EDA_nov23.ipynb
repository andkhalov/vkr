{
 "cells": [
  {
   "cell_type": "code",
   "execution_count": 1,
   "metadata": {},
   "outputs": [],
   "source": [
    "import numpy as np\n",
    "import pandas as pd\n",
    "import json\n",
    "import matplotlib.pyplot as plt\n",
    "import seaborn as sns"
   ]
  },
  {
   "cell_type": "code",
   "execution_count": 2,
   "metadata": {},
   "outputs": [
    {
     "data": {
      "text/plain": [
       "'У нас есть четыре источника данных:\\n/Users/andreykhalov/HULK/PHD/ITSG_research/data/raw_data/Ноябрь 2023 выгрузка/CSV/Выгрузка_CRM(23.11.2023).csv\\n/Users/andreykhalov/HULK/PHD/ITSG_research/data/raw_data/Ноябрь 2023 выгрузка/CSV/Выгрузка_БК(23.11.2023).csv\\n/Users/andreykhalov/HULK/PHD/ITSG_research/data/raw_data/Ноябрь 2023 выгрузка/CSV/ВыгрузкаПартнеры_UTF-8(14.11.23).csv\\n/Users/andreykhalov/HULK/PHD/ITSG_research/data/raw_data/Ноябрь 2023 выгрузка/JSON\\n\\nПлюс у нас есть неструктурированные данные по зарплатам по месяцам на всех сотрудников саппорта\\n\\nПо порядку\\n\\nВсе данные с начала 2019 года\\n    \\n'"
      ]
     },
     "execution_count": 2,
     "metadata": {},
     "output_type": "execute_result"
    }
   ],
   "source": [
    "\"\"\"У нас есть четыре источника данных:\n",
    "/Users/andreykhalov/HULK/PHD/ITSG_research/data/raw_data/Ноябрь 2023 выгрузка/CSV/Выгрузка_CRM(23.11.2023).csv\n",
    "/Users/andreykhalov/HULK/PHD/ITSG_research/data/raw_data/Ноябрь 2023 выгрузка/CSV/Выгрузка_БК(23.11.2023).csv\n",
    "/Users/andreykhalov/HULK/PHD/ITSG_research/data/raw_data/Ноябрь 2023 выгрузка/CSV/ВыгрузкаПартнеры_UTF-8(14.11.23).csv\n",
    "/Users/andreykhalov/HULK/PHD/ITSG_research/data/raw_data/Ноябрь 2023 выгрузка/JSON\n",
    "\n",
    "Плюс у нас есть неструктурированные данные по зарплатам по месяцам на всех сотрудников саппорта\n",
    "\n",
    "По порядку\n",
    "\n",
    "Все данные с начала 2019 года\n",
    "    \n",
    "\"\"\""
   ]
  },
  {
   "cell_type": "code",
   "execution_count": 6,
   "metadata": {},
   "outputs": [],
   "source": [
    "crm_path = '/Users/andreykhalov/HULK/PHD/MFTI/VKR/diser/data/data_from_itsg/raw_data/Ноябрь 2023 выгрузка/CSV/Выгрузка_CRM(23.11.2023).csv'\n",
    "buh_path = '/Users/andreykhalov/HULK/PHD/MFTI/VKR/diser/data/data_from_itsg/raw_data/Ноябрь 2023 выгрузка/CSV/Выгрузка_БК(23.11.2023).csv'\n",
    "partn_path = '/Users/andreykhalov/HULK/PHD/MFTI/VKR/diser/data/data_from_itsg/raw_data/Ноябрь 2023 выгрузка/CSV/ВыгрузкаПартнеры_UTF-8(14.11.23).csv'\n",
    "cont_path = '/Users/andreykhalov/HULK/PHD/MFTI/VKR/diser/data/data_from_itsg/raw_data/Ноябрь 2023 выгрузка/JSON'\n",
    "\n",
    "crm_raw = pd.read_csv(crm_path, sep=';')\n",
    "buh_raw = pd.read_csv(buh_path, sep=';')\n",
    "partn_raw = pd.read_csv(partn_path, sep=';')\n",
    "\n"
   ]
  },
  {
   "cell_type": "code",
   "execution_count": 10,
   "metadata": {},
   "outputs": [
    {
     "data": {
      "text/plain": [
       "(7676, 7)"
      ]
     },
     "execution_count": 10,
     "metadata": {},
     "output_type": "execute_result"
    }
   ],
   "source": [
    "partn_raw.shape"
   ]
  },
  {
   "cell_type": "code",
   "execution_count": 9,
   "metadata": {},
   "outputs": [
    {
     "data": {
      "text/plain": [
       "(277717, 23)"
      ]
     },
     "execution_count": 9,
     "metadata": {},
     "output_type": "execute_result"
    }
   ],
   "source": [
    "crm_raw.shape"
   ]
  },
  {
   "cell_type": "code",
   "execution_count": 3,
   "metadata": {},
   "outputs": [],
   "source": [
    "cont_raw = pd.read_json('/Users/andreykhalov/HULK/PHD/MFTI/VKR/diser/data/data_from_itsg/raw_data/Ноябрь 2023 выгрузка/JSON/Part1-01.19-02.19.json')"
   ]
  },
  {
   "cell_type": "code",
   "execution_count": 7,
   "metadata": {},
   "outputs": [
    {
     "data": {
      "text/plain": [
       "2616"
      ]
     },
     "execution_count": 7,
     "metadata": {},
     "output_type": "execute_result"
    }
   ],
   "source": [
    "partn_raw['client'].nunique()"
   ]
  },
  {
   "cell_type": "code",
   "execution_count": 8,
   "metadata": {},
   "outputs": [
    {
     "data": {
      "text/plain": [
       "1163"
      ]
     },
     "execution_count": 8,
     "metadata": {},
     "output_type": "execute_result"
    }
   ],
   "source": [
    "buh_raw['company_name'].nunique()"
   ]
  },
  {
   "cell_type": "code",
   "execution_count": 10,
   "metadata": {},
   "outputs": [
    {
     "name": "stdout",
     "output_type": "stream",
     "text": [
      "<class 'pandas.core.frame.DataFrame'>\n",
      "RangeIndex: 37789 entries, 0 to 37788\n",
      "Data columns (total 13 columns):\n",
      " #   Column          Non-Null Count  Dtype  \n",
      "---  ------          --------------  -----  \n",
      " 0   index           37789 non-null  int64  \n",
      " 1   id_realisation  37789 non-null  object \n",
      " 2   date_issued     37789 non-null  object \n",
      " 3   author          37789 non-null  object \n",
      " 4   it_name         37688 non-null  object \n",
      " 5   company_name    37789 non-null  object \n",
      " 6   company_bin     37729 non-null  float64\n",
      " 7   main_cp         1090 non-null   object \n",
      " 8   item            37789 non-null  object \n",
      " 9   price           37765 non-null  float64\n",
      " 10  quan            37789 non-null  int64  \n",
      " 11  summ_corr       37789 non-null  int64  \n",
      " 12  seller          37789 non-null  object \n",
      "dtypes: float64(2), int64(3), object(8)\n",
      "memory usage: 3.7+ MB\n"
     ]
    }
   ],
   "source": [
    "buh_raw.info()"
   ]
  },
  {
   "cell_type": "code",
   "execution_count": 11,
   "metadata": {},
   "outputs": [
    {
     "data": {
      "text/plain": [
       "count    3.778900e+04\n",
       "mean     1.933844e+05\n",
       "std      1.294830e+06\n",
       "min     -2.517500e+06\n",
       "25%      7.500000e+03\n",
       "50%      2.700000e+04\n",
       "75%      8.800000e+04\n",
       "max      8.633649e+07\n",
       "Name: summ_corr, dtype: float64"
      ]
     },
     "execution_count": 11,
     "metadata": {},
     "output_type": "execute_result"
    }
   ],
   "source": [
    "\n",
    "buh_raw['summ_corr'].describe()"
   ]
  },
  {
   "cell_type": "code",
   "execution_count": 12,
   "metadata": {},
   "outputs": [
    {
     "data": {
      "text/html": [
       "<div>\n",
       "<style scoped>\n",
       "    .dataframe tbody tr th:only-of-type {\n",
       "        vertical-align: middle;\n",
       "    }\n",
       "\n",
       "    .dataframe tbody tr th {\n",
       "        vertical-align: top;\n",
       "    }\n",
       "\n",
       "    .dataframe thead th {\n",
       "        text-align: right;\n",
       "    }\n",
       "</style>\n",
       "<table border=\"1\" class=\"dataframe\">\n",
       "  <thead>\n",
       "    <tr style=\"text-align: right;\">\n",
       "      <th></th>\n",
       "      <th>index</th>\n",
       "      <th>id_ticket</th>\n",
       "      <th>date</th>\n",
       "      <th>redirection</th>\n",
       "      <th>from</th>\n",
       "      <th>to</th>\n",
       "      <th>prev_cat</th>\n",
       "      <th>description</th>\n",
       "      <th>result</th>\n",
       "    </tr>\n",
       "  </thead>\n",
       "  <tbody>\n",
       "    <tr>\n",
       "      <th>324</th>\n",
       "      <td>325</td>\n",
       "      <td>3c96cd7a-12f5-11e9-80e0-c4346b227f9c</td>\n",
       "      <td>2019-01-08 09:00:29</td>\n",
       "      <td>2019-01-12T13:17:23</td>\n",
       "      <td></td>\n",
       "      <td>IT162 Кулебякин Александр</td>\n",
       "      <td>Запланировано</td>\n",
       "      <td></td>\n",
       "      <td>Подбирал картридж из оставшихся, все пустые кр...</td>\n",
       "    </tr>\n",
       "    <tr>\n",
       "      <th>2520</th>\n",
       "      <td>2521</td>\n",
       "      <td>fd9cf1ea-1f91-11e9-80e0-c4346b227f9c</td>\n",
       "      <td>2019-01-24 10:38:28</td>\n",
       "      <td>2019-01-24T10:40:42</td>\n",
       "      <td>IT110  Очередь заявок удалёнки</td>\n",
       "      <td>IT115 МД Битюкова Дарья</td>\n",
       "      <td>Запланировано</td>\n",
       "      <td>Переадресовано от IT110  Очередь заявок удалён...</td>\n",
       "      <td>удалила acrobat DC, удалила остаточные файлы r...</td>\n",
       "    </tr>\n",
       "    <tr>\n",
       "      <th>2940</th>\n",
       "      <td>2941</td>\n",
       "      <td>38826a5e-22ed-11e9-80e0-c4346b227f9c</td>\n",
       "      <td>2019-01-28 13:30:00</td>\n",
       "      <td>2019-01-28T17:09:47</td>\n",
       "      <td></td>\n",
       "      <td>IT167 Голушко Иван</td>\n",
       "      <td>Запланировано</td>\n",
       "      <td>Заправка картриджей</td>\n",
       "      <td>278А - 2 заправки, 3 замены магнитника</td>\n",
       "    </tr>\n",
       "    <tr>\n",
       "      <th>1537</th>\n",
       "      <td>1538</td>\n",
       "      <td>9df25c17-1978-11e9-80e0-c4346b227f9c</td>\n",
       "      <td>2019-01-16 16:21:43</td>\n",
       "      <td>2019-01-16T16:23:51</td>\n",
       "      <td>IT110  Очередь заявок удалёнки</td>\n",
       "      <td>IT146 Иванов Анатолий</td>\n",
       "      <td>Запланировано</td>\n",
       "      <td>Переадресовано от IT110  Очередь заявок удалён...</td>\n",
       "      <td>Установил Adobe Acrobat XI, пересохранил фаилы...</td>\n",
       "    </tr>\n",
       "    <tr>\n",
       "      <th>333</th>\n",
       "      <td>334</td>\n",
       "      <td>340201aa-12f0-11e9-80e0-c4346b227f9c</td>\n",
       "      <td>2019-01-08 09:20:08</td>\n",
       "      <td>NaN</td>\n",
       "      <td>NaN</td>\n",
       "      <td>NaN</td>\n",
       "      <td>Запланировано</td>\n",
       "      <td>Переадресовано от IT101 Будникова Марина 08.01...</td>\n",
       "      <td>не включался ПК, проблема была в выключенной у...</td>\n",
       "    </tr>\n",
       "    <tr>\n",
       "      <th>3160</th>\n",
       "      <td>3161</td>\n",
       "      <td>ba892717-23bb-11e9-80e0-c4346b227f9c</td>\n",
       "      <td>2019-01-29 17:00:36</td>\n",
       "      <td>2019-01-29T17:44:01</td>\n",
       "      <td></td>\n",
       "      <td>IT109</td>\n",
       "      <td>Запланировано</td>\n",
       "      <td>Сделала обмен по документам Центр Тараз\\n\\n</td>\n",
       "      <td>Сделала обмен по документам Центр Тараз\\n</td>\n",
       "    </tr>\n",
       "    <tr>\n",
       "      <th>1687</th>\n",
       "      <td>1688</td>\n",
       "      <td>9c29f714-1a05-11e9-80e0-c4346b227f9c</td>\n",
       "      <td>2019-01-17 14:30:41</td>\n",
       "      <td>2019-01-17T14:50:12</td>\n",
       "      <td>IT101 Мустафина Эльмира</td>\n",
       "      <td>IT133</td>\n",
       "      <td>Запланировано</td>\n",
       "      <td>Переадресовано от IT101 Будникова Марина 17.01...</td>\n",
       "      <td>Приехал к клиенту, все письма что есть на серв...</td>\n",
       "    </tr>\n",
       "    <tr>\n",
       "      <th>1901</th>\n",
       "      <td>1902</td>\n",
       "      <td>96228746-1b19-11e9-80e0-c4346b227f9c</td>\n",
       "      <td>2019-01-18 17:47:18</td>\n",
       "      <td>2019-01-18T18:07:12</td>\n",
       "      <td></td>\n",
       "      <td>IT131 Исин Нурлан</td>\n",
       "      <td>Запланировано</td>\n",
       "      <td>Подключить сервера hetzner к мониторингу</td>\n",
       "      <td>KVM01\\nKVM02\\nKVM03\\nKVM04\\n\\nFluidra + gw\\nCl...</td>\n",
       "    </tr>\n",
       "    <tr>\n",
       "      <th>1147</th>\n",
       "      <td>1148</td>\n",
       "      <td>e287ed35-17bb-11e9-80e0-c4346b227f9c</td>\n",
       "      <td>2019-01-14 11:18:32</td>\n",
       "      <td>2019-01-14T11:18:54</td>\n",
       "      <td></td>\n",
       "      <td>IT129 Буинцева Ирина</td>\n",
       "      <td>Запланировано</td>\n",
       "      <td></td>\n",
       "      <td>Установил шрифты. Готово.</td>\n",
       "    </tr>\n",
       "    <tr>\n",
       "      <th>3221</th>\n",
       "      <td>3222</td>\n",
       "      <td>69861d08-2447-11e9-80e0-c4346b227f9c</td>\n",
       "      <td>2019-01-30 10:26:49</td>\n",
       "      <td>2019-01-30T10:31:38</td>\n",
       "      <td>IT110  Очередь заявок удалёнки</td>\n",
       "      <td>IT116 Кузнецов Александр</td>\n",
       "      <td>Запланировано</td>\n",
       "      <td>Переадресовано от IT110  Очередь заявок удалён...</td>\n",
       "      <td>Создала почтовый ainur_baisynbayeva@arb.kz\\nНа...</td>\n",
       "    </tr>\n",
       "  </tbody>\n",
       "</table>\n",
       "</div>"
      ],
      "text/plain": [
       "      index                             id_ticket                date  \\\n",
       "324     325  3c96cd7a-12f5-11e9-80e0-c4346b227f9c 2019-01-08 09:00:29   \n",
       "2520   2521  fd9cf1ea-1f91-11e9-80e0-c4346b227f9c 2019-01-24 10:38:28   \n",
       "2940   2941  38826a5e-22ed-11e9-80e0-c4346b227f9c 2019-01-28 13:30:00   \n",
       "1537   1538  9df25c17-1978-11e9-80e0-c4346b227f9c 2019-01-16 16:21:43   \n",
       "333     334  340201aa-12f0-11e9-80e0-c4346b227f9c 2019-01-08 09:20:08   \n",
       "3160   3161  ba892717-23bb-11e9-80e0-c4346b227f9c 2019-01-29 17:00:36   \n",
       "1687   1688  9c29f714-1a05-11e9-80e0-c4346b227f9c 2019-01-17 14:30:41   \n",
       "1901   1902  96228746-1b19-11e9-80e0-c4346b227f9c 2019-01-18 17:47:18   \n",
       "1147   1148  e287ed35-17bb-11e9-80e0-c4346b227f9c 2019-01-14 11:18:32   \n",
       "3221   3222  69861d08-2447-11e9-80e0-c4346b227f9c 2019-01-30 10:26:49   \n",
       "\n",
       "              redirection                            from  \\\n",
       "324   2019-01-12T13:17:23                                   \n",
       "2520  2019-01-24T10:40:42  IT110  Очередь заявок удалёнки   \n",
       "2940  2019-01-28T17:09:47                                   \n",
       "1537  2019-01-16T16:23:51  IT110  Очередь заявок удалёнки   \n",
       "333                   NaN                             NaN   \n",
       "3160  2019-01-29T17:44:01                                   \n",
       "1687  2019-01-17T14:50:12         IT101 Мустафина Эльмира   \n",
       "1901  2019-01-18T18:07:12                                   \n",
       "1147  2019-01-14T11:18:54                                   \n",
       "3221  2019-01-30T10:31:38  IT110  Очередь заявок удалёнки   \n",
       "\n",
       "                             to       prev_cat  \\\n",
       "324   IT162 Кулебякин Александр  Запланировано   \n",
       "2520    IT115 МД Битюкова Дарья  Запланировано   \n",
       "2940         IT167 Голушко Иван  Запланировано   \n",
       "1537      IT146 Иванов Анатолий  Запланировано   \n",
       "333                         NaN  Запланировано   \n",
       "3160                      IT109  Запланировано   \n",
       "1687                      IT133  Запланировано   \n",
       "1901          IT131 Исин Нурлан  Запланировано   \n",
       "1147       IT129 Буинцева Ирина  Запланировано   \n",
       "3221   IT116 Кузнецов Александр  Запланировано   \n",
       "\n",
       "                                            description  \\\n",
       "324                                                       \n",
       "2520  Переадресовано от IT110  Очередь заявок удалён...   \n",
       "2940                                Заправка картриджей   \n",
       "1537  Переадресовано от IT110  Очередь заявок удалён...   \n",
       "333   Переадресовано от IT101 Будникова Марина 08.01...   \n",
       "3160        Сделала обмен по документам Центр Тараз\\n\\n   \n",
       "1687  Переадресовано от IT101 Будникова Марина 17.01...   \n",
       "1901           Подключить сервера hetzner к мониторингу   \n",
       "1147                                                      \n",
       "3221  Переадресовано от IT110  Очередь заявок удалён...   \n",
       "\n",
       "                                                 result  \n",
       "324   Подбирал картридж из оставшихся, все пустые кр...  \n",
       "2520  удалила acrobat DC, удалила остаточные файлы r...  \n",
       "2940             278А - 2 заправки, 3 замены магнитника  \n",
       "1537  Установил Adobe Acrobat XI, пересохранил фаилы...  \n",
       "333   не включался ПК, проблема была в выключенной у...  \n",
       "3160          Сделала обмен по документам Центр Тараз\\n  \n",
       "1687  Приехал к клиенту, все письма что есть на серв...  \n",
       "1901  KVM01\\nKVM02\\nKVM03\\nKVM04\\n\\nFluidra + gw\\nCl...  \n",
       "1147                          Установил шрифты. Готово.  \n",
       "3221  Создала почтовый ainur_baisynbayeva@arb.kz\\nНа...  "
      ]
     },
     "execution_count": 12,
     "metadata": {},
     "output_type": "execute_result"
    }
   ],
   "source": [
    "cont_raw.sample(10)"
   ]
  },
  {
   "cell_type": "code",
   "execution_count": 13,
   "metadata": {},
   "outputs": [
    {
     "data": {
      "text/html": [
       "<div>\n",
       "<style scoped>\n",
       "    .dataframe tbody tr th:only-of-type {\n",
       "        vertical-align: middle;\n",
       "    }\n",
       "\n",
       "    .dataframe tbody tr th {\n",
       "        vertical-align: top;\n",
       "    }\n",
       "\n",
       "    .dataframe thead th {\n",
       "        text-align: right;\n",
       "    }\n",
       "</style>\n",
       "<table border=\"1\" class=\"dataframe\">\n",
       "  <thead>\n",
       "    <tr style=\"text-align: right;\">\n",
       "      <th></th>\n",
       "      <th>0</th>\n",
       "      <th>1</th>\n",
       "      <th>2</th>\n",
       "      <th>3</th>\n",
       "      <th>4</th>\n",
       "    </tr>\n",
       "  </thead>\n",
       "  <tbody>\n",
       "    <tr>\n",
       "      <th>index</th>\n",
       "      <td>1.0</td>\n",
       "      <td>2.0</td>\n",
       "      <td>3.0</td>\n",
       "      <td>4.0</td>\n",
       "      <td>5.0</td>\n",
       "    </tr>\n",
       "    <tr>\n",
       "      <th>id_ticket</th>\n",
       "      <td>9668476a-12cd-11e7-b913-00226442b931</td>\n",
       "      <td>f6bae03c-fef6-11e6-ba18-00226442b931</td>\n",
       "      <td>05184c0a-542d-11e8-80ca-c4346b227f9c</td>\n",
       "      <td>f30a636a-542c-11e8-80ca-c4346b227f9c</td>\n",
       "      <td>480d4e89-4063-11e7-994b-00226442b931</td>\n",
       "    </tr>\n",
       "    <tr>\n",
       "      <th>parrent_id</th>\n",
       "      <td>65c79772-a7e8-11e6-8ff0-00226442b931</td>\n",
       "      <td>165c88b0-afd8-11e6-8ff0-00226442b931</td>\n",
       "      <td>3380722b-2fd8-11e7-99bb-00226442b931</td>\n",
       "      <td>412e6928-2fd7-11e7-99bb-00226442b931</td>\n",
       "      <td>85b54026-a894-11e6-8ff0-00226442b931</td>\n",
       "    </tr>\n",
       "    <tr>\n",
       "      <th>start</th>\n",
       "      <td>11.11.2016 14:23</td>\n",
       "      <td>11.11.2016 14:47</td>\n",
       "      <td>11.11.2016 16:40</td>\n",
       "      <td>11.11.2016 17:34</td>\n",
       "      <td>12.11.2016 10:57</td>\n",
       "    </tr>\n",
       "    <tr>\n",
       "      <th>end</th>\n",
       "      <td>29.05.2019 15:42</td>\n",
       "      <td>02.02.2019 09:30</td>\n",
       "      <td>01.05.2019 09:30</td>\n",
       "      <td>01.05.2019 09:30</td>\n",
       "      <td>20.05.2019 09:30</td>\n",
       "    </tr>\n",
       "    <tr>\n",
       "      <th>create</th>\n",
       "      <td>29.05.2019 15:12</td>\n",
       "      <td>02.02.2019 09:00</td>\n",
       "      <td>01.05.2019 09:00</td>\n",
       "      <td>01.05.2019 09:00</td>\n",
       "      <td>20.05.2019 09:00</td>\n",
       "    </tr>\n",
       "    <tr>\n",
       "      <th>author</th>\n",
       "      <td>IT116 Кузнецов Александр</td>\n",
       "      <td>IT115 МД Битюкова Дарья</td>\n",
       "      <td>IT126 Панарина Александра</td>\n",
       "      <td>IT126 Панарина Александра</td>\n",
       "      <td>IT109</td>\n",
       "    </tr>\n",
       "    <tr>\n",
       "      <th>contact_person</th>\n",
       "      <td>02 Елена Марченко вн.28</td>\n",
       "      <td>02 Валиева Найля</td>\n",
       "      <td>02 Федина Лидия вн.110</td>\n",
       "      <td>02 Федина Лидия вн.110</td>\n",
       "      <td>02 V Лучер Владимир (Директор финансовый)  вн132</td>\n",
       "    </tr>\n",
       "    <tr>\n",
       "      <th>cp_position</th>\n",
       "      <td>Офис менеджер</td>\n",
       "      <td>NaN</td>\n",
       "      <td>Маркетолог</td>\n",
       "      <td>Маркетолог</td>\n",
       "      <td>Финансовый директор</td>\n",
       "    </tr>\n",
       "    <tr>\n",
       "      <th>cp_condition</th>\n",
       "      <td>Уволен</td>\n",
       "      <td>Работает</td>\n",
       "      <td>Работает</td>\n",
       "      <td>Работает</td>\n",
       "      <td>Работает</td>\n",
       "    </tr>\n",
       "    <tr>\n",
       "      <th>cp_sex</th>\n",
       "      <td>Женский</td>\n",
       "      <td>Женский</td>\n",
       "      <td>Женский</td>\n",
       "      <td>Женский</td>\n",
       "      <td>Мужской</td>\n",
       "    </tr>\n",
       "    <tr>\n",
       "      <th>equipment_id</th>\n",
       "      <td>NaN</td>\n",
       "      <td>NaN</td>\n",
       "      <td>NaN</td>\n",
       "      <td>NaN</td>\n",
       "      <td>NaN</td>\n",
       "    </tr>\n",
       "    <tr>\n",
       "      <th>it_name</th>\n",
       "      <td>IT110  Очередь заявок удалёнки</td>\n",
       "      <td>IT118 Резниченко Дмитрий</td>\n",
       "      <td>IT110  Очередь заявок удалёнки</td>\n",
       "      <td>IT110  Очередь заявок удалёнки</td>\n",
       "      <td>IT108 Алдахмет Жания</td>\n",
       "    </tr>\n",
       "    <tr>\n",
       "      <th>department</th>\n",
       "      <td>Удаленная IT поддержка</td>\n",
       "      <td>АУП</td>\n",
       "      <td>Удаленная IT поддержка</td>\n",
       "      <td>Удаленная IT поддержка</td>\n",
       "      <td>1-линия</td>\n",
       "    </tr>\n",
       "    <tr>\n",
       "      <th>project</th>\n",
       "      <td>Напоминание</td>\n",
       "      <td>Удаленная поддержка 1 линия</td>\n",
       "      <td>Напоминание</td>\n",
       "      <td>Напоминание</td>\n",
       "      <td>Удаленная поддержка 1 линия</td>\n",
       "    </tr>\n",
       "    <tr>\n",
       "      <th>cat</th>\n",
       "      <td>1 Сайты (домены, хостинги, работа с сайтом, пр...</td>\n",
       "      <td>1 Сайты (домены, хостинги, работа с сайтом, пр...</td>\n",
       "      <td>1 Сайты (домены, хостинги, работа с сайтом, пр...</td>\n",
       "      <td>1 Сайты (домены, хостинги, работа с сайтом, пр...</td>\n",
       "      <td>1 Сайты (домены, хостинги, работа с сайтом, пр...</td>\n",
       "    </tr>\n",
       "    <tr>\n",
       "      <th>norm</th>\n",
       "      <td>NaN</td>\n",
       "      <td>NaN</td>\n",
       "      <td>NaN</td>\n",
       "      <td>NaN</td>\n",
       "      <td>7.0</td>\n",
       "    </tr>\n",
       "    <tr>\n",
       "      <th>hours</th>\n",
       "      <td>0</td>\n",
       "      <td>0,5</td>\n",
       "      <td>0,5</td>\n",
       "      <td>0,5</td>\n",
       "      <td>0,5</td>\n",
       "    </tr>\n",
       "    <tr>\n",
       "      <th>client</th>\n",
       "      <td>A02 Beautyprof (бьютипроф)</td>\n",
       "      <td>R Клуб молодых предпринимателей (МОСТ)</td>\n",
       "      <td>A02 HELP (Консалтинговая Группа HELP, ТОО FinS...</td>\n",
       "      <td>A02 HELP (Консалтинговая Группа HELP, ТОО FinS...</td>\n",
       "      <td>A02 Simax Solution. Симакс солюшн</td>\n",
       "    </tr>\n",
       "    <tr>\n",
       "      <th>client_tin/bin</th>\n",
       "      <td>061140009703</td>\n",
       "      <td>130740008383</td>\n",
       "      <td>070440007589</td>\n",
       "      <td>070440007589</td>\n",
       "      <td>110640005153</td>\n",
       "    </tr>\n",
       "    <tr>\n",
       "      <th>like</th>\n",
       "      <td>NaN</td>\n",
       "      <td>NaN</td>\n",
       "      <td>NaN</td>\n",
       "      <td>NaN</td>\n",
       "      <td>NaN</td>\n",
       "    </tr>\n",
       "    <tr>\n",
       "      <th>marks</th>\n",
       "      <td>Запланировано</td>\n",
       "      <td>Отменено</td>\n",
       "      <td>Запланировано</td>\n",
       "      <td>Запланировано</td>\n",
       "      <td>Завершено</td>\n",
       "    </tr>\n",
       "    <tr>\n",
       "      <th>del_mark</th>\n",
       "      <td>Да</td>\n",
       "      <td>Нет</td>\n",
       "      <td>Да</td>\n",
       "      <td>Да</td>\n",
       "      <td>Нет</td>\n",
       "    </tr>\n",
       "  </tbody>\n",
       "</table>\n",
       "</div>"
      ],
      "text/plain": [
       "                                                                0  \\\n",
       "index                                                         1.0   \n",
       "id_ticket                    9668476a-12cd-11e7-b913-00226442b931   \n",
       "parrent_id                   65c79772-a7e8-11e6-8ff0-00226442b931   \n",
       "start                                            11.11.2016 14:23   \n",
       "end                                              29.05.2019 15:42   \n",
       "create                                           29.05.2019 15:12   \n",
       "author                                   IT116 Кузнецов Александр   \n",
       "contact_person                            02 Елена Марченко вн.28   \n",
       "cp_position                                         Офис менеджер   \n",
       "cp_condition                                               Уволен   \n",
       "cp_sex                                                    Женский   \n",
       "equipment_id                                                  NaN   \n",
       "it_name                            IT110  Очередь заявок удалёнки   \n",
       "department                                 Удаленная IT поддержка   \n",
       "project                                               Напоминание   \n",
       "cat             1 Сайты (домены, хостинги, работа с сайтом, пр...   \n",
       "norm                                                          NaN   \n",
       "hours                                                           0   \n",
       "client                                 A02 Beautyprof (бьютипроф)   \n",
       "client_tin/bin                                       061140009703   \n",
       "like                                                          NaN   \n",
       "marks                                               Запланировано   \n",
       "del_mark                                                       Да   \n",
       "\n",
       "                                                                1  \\\n",
       "index                                                         2.0   \n",
       "id_ticket                    f6bae03c-fef6-11e6-ba18-00226442b931   \n",
       "parrent_id                   165c88b0-afd8-11e6-8ff0-00226442b931   \n",
       "start                                            11.11.2016 14:47   \n",
       "end                                              02.02.2019 09:30   \n",
       "create                                           02.02.2019 09:00   \n",
       "author                                    IT115 МД Битюкова Дарья   \n",
       "contact_person                                   02 Валиева Найля   \n",
       "cp_position                                                   NaN   \n",
       "cp_condition                                             Работает   \n",
       "cp_sex                                                    Женский   \n",
       "equipment_id                                                  NaN   \n",
       "it_name                                  IT118 Резниченко Дмитрий   \n",
       "department                                                    АУП   \n",
       "project                               Удаленная поддержка 1 линия   \n",
       "cat             1 Сайты (домены, хостинги, работа с сайтом, пр...   \n",
       "norm                                                          NaN   \n",
       "hours                                                         0,5   \n",
       "client                     R Клуб молодых предпринимателей (МОСТ)   \n",
       "client_tin/bin                                       130740008383   \n",
       "like                                                          NaN   \n",
       "marks                                                    Отменено   \n",
       "del_mark                                                      Нет   \n",
       "\n",
       "                                                                2  \\\n",
       "index                                                         3.0   \n",
       "id_ticket                    05184c0a-542d-11e8-80ca-c4346b227f9c   \n",
       "parrent_id                   3380722b-2fd8-11e7-99bb-00226442b931   \n",
       "start                                            11.11.2016 16:40   \n",
       "end                                              01.05.2019 09:30   \n",
       "create                                           01.05.2019 09:00   \n",
       "author                                  IT126 Панарина Александра   \n",
       "contact_person                             02 Федина Лидия вн.110   \n",
       "cp_position                                            Маркетолог   \n",
       "cp_condition                                             Работает   \n",
       "cp_sex                                                    Женский   \n",
       "equipment_id                                                  NaN   \n",
       "it_name                            IT110  Очередь заявок удалёнки   \n",
       "department                                 Удаленная IT поддержка   \n",
       "project                                               Напоминание   \n",
       "cat             1 Сайты (домены, хостинги, работа с сайтом, пр...   \n",
       "norm                                                          NaN   \n",
       "hours                                                         0,5   \n",
       "client          A02 HELP (Консалтинговая Группа HELP, ТОО FinS...   \n",
       "client_tin/bin                                       070440007589   \n",
       "like                                                          NaN   \n",
       "marks                                               Запланировано   \n",
       "del_mark                                                       Да   \n",
       "\n",
       "                                                                3  \\\n",
       "index                                                         4.0   \n",
       "id_ticket                    f30a636a-542c-11e8-80ca-c4346b227f9c   \n",
       "parrent_id                   412e6928-2fd7-11e7-99bb-00226442b931   \n",
       "start                                            11.11.2016 17:34   \n",
       "end                                              01.05.2019 09:30   \n",
       "create                                           01.05.2019 09:00   \n",
       "author                                  IT126 Панарина Александра   \n",
       "contact_person                             02 Федина Лидия вн.110   \n",
       "cp_position                                            Маркетолог   \n",
       "cp_condition                                             Работает   \n",
       "cp_sex                                                    Женский   \n",
       "equipment_id                                                  NaN   \n",
       "it_name                            IT110  Очередь заявок удалёнки   \n",
       "department                                 Удаленная IT поддержка   \n",
       "project                                               Напоминание   \n",
       "cat             1 Сайты (домены, хостинги, работа с сайтом, пр...   \n",
       "norm                                                          NaN   \n",
       "hours                                                         0,5   \n",
       "client          A02 HELP (Консалтинговая Группа HELP, ТОО FinS...   \n",
       "client_tin/bin                                       070440007589   \n",
       "like                                                          NaN   \n",
       "marks                                               Запланировано   \n",
       "del_mark                                                       Да   \n",
       "\n",
       "                                                                4  \n",
       "index                                                         5.0  \n",
       "id_ticket                    480d4e89-4063-11e7-994b-00226442b931  \n",
       "parrent_id                   85b54026-a894-11e6-8ff0-00226442b931  \n",
       "start                                            12.11.2016 10:57  \n",
       "end                                              20.05.2019 09:30  \n",
       "create                                           20.05.2019 09:00  \n",
       "author                                                      IT109  \n",
       "contact_person   02 V Лучер Владимир (Директор финансовый)  вн132  \n",
       "cp_position                                   Финансовый директор  \n",
       "cp_condition                                             Работает  \n",
       "cp_sex                                                    Мужской  \n",
       "equipment_id                                                  NaN  \n",
       "it_name                                      IT108 Алдахмет Жания  \n",
       "department                                                1-линия  \n",
       "project                               Удаленная поддержка 1 линия  \n",
       "cat             1 Сайты (домены, хостинги, работа с сайтом, пр...  \n",
       "norm                                                          7.0  \n",
       "hours                                                         0,5  \n",
       "client                          A02 Simax Solution. Симакс солюшн  \n",
       "client_tin/bin                                       110640005153  \n",
       "like                                                          NaN  \n",
       "marks                                                   Завершено  \n",
       "del_mark                                                      Нет  "
      ]
     },
     "execution_count": 13,
     "metadata": {},
     "output_type": "execute_result"
    }
   ],
   "source": [
    "crm_raw.head().T"
   ]
  },
  {
   "cell_type": "code",
   "execution_count": 14,
   "metadata": {},
   "outputs": [
    {
     "data": {
      "text/html": [
       "<div>\n",
       "<style scoped>\n",
       "    .dataframe tbody tr th:only-of-type {\n",
       "        vertical-align: middle;\n",
       "    }\n",
       "\n",
       "    .dataframe tbody tr th {\n",
       "        vertical-align: top;\n",
       "    }\n",
       "\n",
       "    .dataframe thead th {\n",
       "        text-align: right;\n",
       "    }\n",
       "</style>\n",
       "<table border=\"1\" class=\"dataframe\">\n",
       "  <thead>\n",
       "    <tr style=\"text-align: right;\">\n",
       "      <th></th>\n",
       "      <th>index</th>\n",
       "      <th>id_ticket</th>\n",
       "      <th>parrent_id</th>\n",
       "      <th>start</th>\n",
       "      <th>end</th>\n",
       "      <th>create</th>\n",
       "      <th>author</th>\n",
       "      <th>contact_person</th>\n",
       "      <th>cp_position</th>\n",
       "      <th>cp_condition</th>\n",
       "      <th>...</th>\n",
       "      <th>department</th>\n",
       "      <th>project</th>\n",
       "      <th>cat</th>\n",
       "      <th>norm</th>\n",
       "      <th>hours</th>\n",
       "      <th>client</th>\n",
       "      <th>client_tin/bin</th>\n",
       "      <th>like</th>\n",
       "      <th>marks</th>\n",
       "      <th>del_mark</th>\n",
       "    </tr>\n",
       "  </thead>\n",
       "  <tbody>\n",
       "    <tr>\n",
       "      <th>0</th>\n",
       "      <td>1.0</td>\n",
       "      <td>9668476a-12cd-11e7-b913-00226442b931</td>\n",
       "      <td>65c79772-a7e8-11e6-8ff0-00226442b931</td>\n",
       "      <td>11.11.2016 14:23</td>\n",
       "      <td>29.05.2019 15:42</td>\n",
       "      <td>29.05.2019 15:12</td>\n",
       "      <td>IT116 Кузнецов Александр</td>\n",
       "      <td>02 Елена Марченко вн.28</td>\n",
       "      <td>Офис менеджер</td>\n",
       "      <td>Уволен</td>\n",
       "      <td>...</td>\n",
       "      <td>Удаленная IT поддержка</td>\n",
       "      <td>Напоминание</td>\n",
       "      <td>1 Сайты (домены, хостинги, работа с сайтом, пр...</td>\n",
       "      <td>NaN</td>\n",
       "      <td>0</td>\n",
       "      <td>A02 Beautyprof (бьютипроф)</td>\n",
       "      <td>061140009703</td>\n",
       "      <td>NaN</td>\n",
       "      <td>Запланировано</td>\n",
       "      <td>Да</td>\n",
       "    </tr>\n",
       "    <tr>\n",
       "      <th>2</th>\n",
       "      <td>3.0</td>\n",
       "      <td>05184c0a-542d-11e8-80ca-c4346b227f9c</td>\n",
       "      <td>3380722b-2fd8-11e7-99bb-00226442b931</td>\n",
       "      <td>11.11.2016 16:40</td>\n",
       "      <td>01.05.2019 09:30</td>\n",
       "      <td>01.05.2019 09:00</td>\n",
       "      <td>IT126 Панарина Александра</td>\n",
       "      <td>02 Федина Лидия вн.110</td>\n",
       "      <td>Маркетолог</td>\n",
       "      <td>Работает</td>\n",
       "      <td>...</td>\n",
       "      <td>Удаленная IT поддержка</td>\n",
       "      <td>Напоминание</td>\n",
       "      <td>1 Сайты (домены, хостинги, работа с сайтом, пр...</td>\n",
       "      <td>NaN</td>\n",
       "      <td>0,5</td>\n",
       "      <td>A02 HELP (Консалтинговая Группа HELP, ТОО FinS...</td>\n",
       "      <td>070440007589</td>\n",
       "      <td>NaN</td>\n",
       "      <td>Запланировано</td>\n",
       "      <td>Да</td>\n",
       "    </tr>\n",
       "    <tr>\n",
       "      <th>3</th>\n",
       "      <td>4.0</td>\n",
       "      <td>f30a636a-542c-11e8-80ca-c4346b227f9c</td>\n",
       "      <td>412e6928-2fd7-11e7-99bb-00226442b931</td>\n",
       "      <td>11.11.2016 17:34</td>\n",
       "      <td>01.05.2019 09:30</td>\n",
       "      <td>01.05.2019 09:00</td>\n",
       "      <td>IT126 Панарина Александра</td>\n",
       "      <td>02 Федина Лидия вн.110</td>\n",
       "      <td>Маркетолог</td>\n",
       "      <td>Работает</td>\n",
       "      <td>...</td>\n",
       "      <td>Удаленная IT поддержка</td>\n",
       "      <td>Напоминание</td>\n",
       "      <td>1 Сайты (домены, хостинги, работа с сайтом, пр...</td>\n",
       "      <td>NaN</td>\n",
       "      <td>0,5</td>\n",
       "      <td>A02 HELP (Консалтинговая Группа HELP, ТОО FinS...</td>\n",
       "      <td>070440007589</td>\n",
       "      <td>NaN</td>\n",
       "      <td>Запланировано</td>\n",
       "      <td>Да</td>\n",
       "    </tr>\n",
       "    <tr>\n",
       "      <th>5</th>\n",
       "      <td>6.0</td>\n",
       "      <td>e663d18b-1786-11e8-80c9-c4346b227f9c</td>\n",
       "      <td>98c5c200-f724-11e6-ba18-00226442b931</td>\n",
       "      <td>03.12.2016 13:31</td>\n",
       "      <td>20.02.2019 09:52</td>\n",
       "      <td>18.02.2019 09:00</td>\n",
       "      <td>IT126 Панарина Александра</td>\n",
       "      <td>02  V Алексей  Пя (Дизайнер)</td>\n",
       "      <td>Контактное лицо</td>\n",
       "      <td>Уволен</td>\n",
       "      <td>...</td>\n",
       "      <td>1-линия</td>\n",
       "      <td>Напоминание</td>\n",
       "      <td>1 Сайты (домены, хостинги, работа с сайтом, пр...</td>\n",
       "      <td>5.0</td>\n",
       "      <td>0,5</td>\n",
       "      <td>R Метрополис (ГидроСтройТехнологии METROPOLIS ...</td>\n",
       "      <td>040940001631</td>\n",
       "      <td>NaN</td>\n",
       "      <td>Завершено</td>\n",
       "      <td>Нет</td>\n",
       "    </tr>\n",
       "    <tr>\n",
       "      <th>7</th>\n",
       "      <td>8.0</td>\n",
       "      <td>ae535b6d-17c5-11e8-80c9-c4346b227f9c</td>\n",
       "      <td>fdf9a300-f723-11e6-ba18-00226442b931</td>\n",
       "      <td>03.12.2016 13:42</td>\n",
       "      <td>27.02.2019 15:55</td>\n",
       "      <td>18.02.2019 09:00</td>\n",
       "      <td>IT126 Панарина Александра</td>\n",
       "      <td>02 Амрахова Дина</td>\n",
       "      <td>NaN</td>\n",
       "      <td>Работает</td>\n",
       "      <td>...</td>\n",
       "      <td>1-линия</td>\n",
       "      <td>Напоминание</td>\n",
       "      <td>8 Интернет (сеть, проблемы, решения, монтаж)</td>\n",
       "      <td>5.0</td>\n",
       "      <td>0,5</td>\n",
       "      <td>A02 Мыс Орда (форсгард, ForceGuard ТОО «Охранн...</td>\n",
       "      <td>181140000576</td>\n",
       "      <td>NaN</td>\n",
       "      <td>Завершено</td>\n",
       "      <td>Нет</td>\n",
       "    </tr>\n",
       "    <tr>\n",
       "      <th>...</th>\n",
       "      <td>...</td>\n",
       "      <td>...</td>\n",
       "      <td>...</td>\n",
       "      <td>...</td>\n",
       "      <td>...</td>\n",
       "      <td>...</td>\n",
       "      <td>...</td>\n",
       "      <td>...</td>\n",
       "      <td>...</td>\n",
       "      <td>...</td>\n",
       "      <td>...</td>\n",
       "      <td>...</td>\n",
       "      <td>...</td>\n",
       "      <td>...</td>\n",
       "      <td>...</td>\n",
       "      <td>...</td>\n",
       "      <td>...</td>\n",
       "      <td>...</td>\n",
       "      <td>...</td>\n",
       "      <td>...</td>\n",
       "      <td>...</td>\n",
       "    </tr>\n",
       "    <tr>\n",
       "      <th>276548</th>\n",
       "      <td>276547.0</td>\n",
       "      <td>e195bd3c-851a-11ee-86a5-c4346bb7a003</td>\n",
       "      <td>13df3a40-7f9e-11ee-86a5-c4346bb7a003</td>\n",
       "      <td>17.11.2023 13:27</td>\n",
       "      <td>24.11.2023 13:57</td>\n",
       "      <td>24.11.2023 08:00</td>\n",
       "      <td>IT199 Жюкас Алёна</td>\n",
       "      <td>02 IT 126 Панарина Александра</td>\n",
       "      <td>Руководитель удалённой поддержки</td>\n",
       "      <td>Работает</td>\n",
       "      <td>...</td>\n",
       "      <td>1-линия</td>\n",
       "      <td>Напоминание</td>\n",
       "      <td>6 Прочее ПО (антивирусы, офисы, чистка, провек...</td>\n",
       "      <td>NaN</td>\n",
       "      <td>0,5</td>\n",
       "      <td>А02 ТОО IT Support Group (ITSG, саппорт, сапо...</td>\n",
       "      <td>070940025703</td>\n",
       "      <td>NaN</td>\n",
       "      <td>Пауза</td>\n",
       "      <td>Нет</td>\n",
       "    </tr>\n",
       "    <tr>\n",
       "      <th>276714</th>\n",
       "      <td>276713.0</td>\n",
       "      <td>1a1f8ecc-85d5-11ee-86a5-c4346bb7a003</td>\n",
       "      <td>debffcd8-2a27-4f18-bd2e-0f9be1cefc2c</td>\n",
       "      <td>18.11.2023 11:41</td>\n",
       "      <td>18.11.2023 11:46</td>\n",
       "      <td>18.11.2023 11:41</td>\n",
       "      <td>IT116 Кузнецов Александр</td>\n",
       "      <td>02 Алексеева Катерина</td>\n",
       "      <td>NaN</td>\n",
       "      <td>Работает</td>\n",
       "      <td>...</td>\n",
       "      <td>Выездные специалисты</td>\n",
       "      <td>Напоминание</td>\n",
       "      <td>NaN</td>\n",
       "      <td>NaN</td>\n",
       "      <td>2</td>\n",
       "      <td>А02 ТОО \"OK.Медиа\" (ОК медиа)</td>\n",
       "      <td>120540001466</td>\n",
       "      <td>NaN</td>\n",
       "      <td>Завершено</td>\n",
       "      <td>Нет</td>\n",
       "    </tr>\n",
       "    <tr>\n",
       "      <th>277115</th>\n",
       "      <td>277114.0</td>\n",
       "      <td>2fa32056-8827-11ee-86a5-c4346bb7a003</td>\n",
       "      <td>cb0e88c2-721e-11ee-86a5-c4346bb7a003</td>\n",
       "      <td>21.11.2023 10:33</td>\n",
       "      <td>01.12.2023 11:03</td>\n",
       "      <td>01.12.2023 10:33</td>\n",
       "      <td>IT178 Пичененко Кирилл</td>\n",
       "      <td>02 Синяева Оксана</td>\n",
       "      <td>NaN</td>\n",
       "      <td>Работает</td>\n",
       "      <td>...</td>\n",
       "      <td>Удаленная IT поддержка</td>\n",
       "      <td>Напоминание</td>\n",
       "      <td>11 Профилактика (проверка, backup, обзвон, выезд)</td>\n",
       "      <td>NaN</td>\n",
       "      <td>0,5</td>\n",
       "      <td>A02 КазДинФарма</td>\n",
       "      <td>031240006281</td>\n",
       "      <td>NaN</td>\n",
       "      <td>Запланировано</td>\n",
       "      <td>Нет</td>\n",
       "    </tr>\n",
       "    <tr>\n",
       "      <th>277416</th>\n",
       "      <td>277415.0</td>\n",
       "      <td>9267b1a0-88fa-11ee-86a5-c4346bb7a003</td>\n",
       "      <td>NaN</td>\n",
       "      <td>22.11.2023 11:47</td>\n",
       "      <td>01.12.2023 12:46</td>\n",
       "      <td>01.12.2023 11:46</td>\n",
       "      <td>IT101 Мустафина Эльмира</td>\n",
       "      <td>02 IT101 Эльмира Мустафина</td>\n",
       "      <td>Координатор</td>\n",
       "      <td>Работает</td>\n",
       "      <td>...</td>\n",
       "      <td>Сервис</td>\n",
       "      <td>Напоминание</td>\n",
       "      <td>NaN</td>\n",
       "      <td>NaN</td>\n",
       "      <td>0,5</td>\n",
       "      <td>А02 ТОО IT Support Group (ITSG, саппорт, сапо...</td>\n",
       "      <td>070940025703</td>\n",
       "      <td>NaN</td>\n",
       "      <td>Запланировано</td>\n",
       "      <td>Нет</td>\n",
       "    </tr>\n",
       "    <tr>\n",
       "      <th>277481</th>\n",
       "      <td>277480.0</td>\n",
       "      <td>48ac1443-891a-11ee-86a5-c4346bb7a003</td>\n",
       "      <td>NaN</td>\n",
       "      <td>22.11.2023 15:34</td>\n",
       "      <td>30.11.2023 16:03</td>\n",
       "      <td>30.11.2023 15:33</td>\n",
       "      <td>IT207 Щербулов Андрей</td>\n",
       "      <td>NaN</td>\n",
       "      <td>NaN</td>\n",
       "      <td>NaN</td>\n",
       "      <td>...</td>\n",
       "      <td>Руководитель удаленной поддержки</td>\n",
       "      <td>Напоминание</td>\n",
       "      <td>NaN</td>\n",
       "      <td>NaN</td>\n",
       "      <td>0,5</td>\n",
       "      <td>NaN</td>\n",
       "      <td>NaN</td>\n",
       "      <td>NaN</td>\n",
       "      <td>Запланировано</td>\n",
       "      <td>Нет</td>\n",
       "    </tr>\n",
       "  </tbody>\n",
       "</table>\n",
       "<p>1023 rows × 23 columns</p>\n",
       "</div>"
      ],
      "text/plain": [
       "           index                             id_ticket  \\\n",
       "0            1.0  9668476a-12cd-11e7-b913-00226442b931   \n",
       "2            3.0  05184c0a-542d-11e8-80ca-c4346b227f9c   \n",
       "3            4.0  f30a636a-542c-11e8-80ca-c4346b227f9c   \n",
       "5            6.0  e663d18b-1786-11e8-80c9-c4346b227f9c   \n",
       "7            8.0  ae535b6d-17c5-11e8-80c9-c4346b227f9c   \n",
       "...          ...                                   ...   \n",
       "276548  276547.0  e195bd3c-851a-11ee-86a5-c4346bb7a003   \n",
       "276714  276713.0  1a1f8ecc-85d5-11ee-86a5-c4346bb7a003   \n",
       "277115  277114.0  2fa32056-8827-11ee-86a5-c4346bb7a003   \n",
       "277416  277415.0  9267b1a0-88fa-11ee-86a5-c4346bb7a003   \n",
       "277481  277480.0  48ac1443-891a-11ee-86a5-c4346bb7a003   \n",
       "\n",
       "                                  parrent_id             start  \\\n",
       "0       65c79772-a7e8-11e6-8ff0-00226442b931  11.11.2016 14:23   \n",
       "2       3380722b-2fd8-11e7-99bb-00226442b931  11.11.2016 16:40   \n",
       "3       412e6928-2fd7-11e7-99bb-00226442b931  11.11.2016 17:34   \n",
       "5       98c5c200-f724-11e6-ba18-00226442b931  03.12.2016 13:31   \n",
       "7       fdf9a300-f723-11e6-ba18-00226442b931  03.12.2016 13:42   \n",
       "...                                      ...               ...   \n",
       "276548  13df3a40-7f9e-11ee-86a5-c4346bb7a003  17.11.2023 13:27   \n",
       "276714  debffcd8-2a27-4f18-bd2e-0f9be1cefc2c  18.11.2023 11:41   \n",
       "277115  cb0e88c2-721e-11ee-86a5-c4346bb7a003  21.11.2023 10:33   \n",
       "277416                                   NaN  22.11.2023 11:47   \n",
       "277481                                   NaN  22.11.2023 15:34   \n",
       "\n",
       "                     end            create                     author  \\\n",
       "0       29.05.2019 15:42  29.05.2019 15:12   IT116 Кузнецов Александр   \n",
       "2       01.05.2019 09:30  01.05.2019 09:00  IT126 Панарина Александра   \n",
       "3       01.05.2019 09:30  01.05.2019 09:00  IT126 Панарина Александра   \n",
       "5       20.02.2019 09:52  18.02.2019 09:00  IT126 Панарина Александра   \n",
       "7       27.02.2019 15:55  18.02.2019 09:00  IT126 Панарина Александра   \n",
       "...                  ...               ...                        ...   \n",
       "276548  24.11.2023 13:57  24.11.2023 08:00          IT199 Жюкас Алёна   \n",
       "276714  18.11.2023 11:46  18.11.2023 11:41   IT116 Кузнецов Александр   \n",
       "277115  01.12.2023 11:03  01.12.2023 10:33     IT178 Пичененко Кирилл   \n",
       "277416  01.12.2023 12:46  01.12.2023 11:46    IT101 Мустафина Эльмира   \n",
       "277481  30.11.2023 16:03  30.11.2023 15:33      IT207 Щербулов Андрей   \n",
       "\n",
       "                       contact_person                       cp_position  \\\n",
       "0             02 Елена Марченко вн.28                     Офис менеджер   \n",
       "2              02 Федина Лидия вн.110                        Маркетолог   \n",
       "3              02 Федина Лидия вн.110                        Маркетолог   \n",
       "5        02  V Алексей  Пя (Дизайнер)                   Контактное лицо   \n",
       "7                    02 Амрахова Дина                               NaN   \n",
       "...                               ...                               ...   \n",
       "276548  02 IT 126 Панарина Александра  Руководитель удалённой поддержки   \n",
       "276714          02 Алексеева Катерина                               NaN   \n",
       "277115              02 Синяева Оксана                               NaN   \n",
       "277416     02 IT101 Эльмира Мустафина                       Координатор   \n",
       "277481                            NaN                               NaN   \n",
       "\n",
       "       cp_condition  ...                        department      project  \\\n",
       "0            Уволен  ...            Удаленная IT поддержка  Напоминание   \n",
       "2          Работает  ...            Удаленная IT поддержка  Напоминание   \n",
       "3          Работает  ...            Удаленная IT поддержка  Напоминание   \n",
       "5            Уволен  ...                           1-линия  Напоминание   \n",
       "7          Работает  ...                           1-линия  Напоминание   \n",
       "...             ...  ...                               ...          ...   \n",
       "276548     Работает  ...                           1-линия  Напоминание   \n",
       "276714     Работает  ...              Выездные специалисты  Напоминание   \n",
       "277115     Работает  ...            Удаленная IT поддержка  Напоминание   \n",
       "277416     Работает  ...                            Сервис  Напоминание   \n",
       "277481          NaN  ...  Руководитель удаленной поддержки  Напоминание   \n",
       "\n",
       "                                                      cat norm hours  \\\n",
       "0       1 Сайты (домены, хостинги, работа с сайтом, пр...  NaN     0   \n",
       "2       1 Сайты (домены, хостинги, работа с сайтом, пр...  NaN   0,5   \n",
       "3       1 Сайты (домены, хостинги, работа с сайтом, пр...  NaN   0,5   \n",
       "5       1 Сайты (домены, хостинги, работа с сайтом, пр...  5.0   0,5   \n",
       "7            8 Интернет (сеть, проблемы, решения, монтаж)  5.0   0,5   \n",
       "...                                                   ...  ...   ...   \n",
       "276548  6 Прочее ПО (антивирусы, офисы, чистка, провек...  NaN   0,5   \n",
       "276714                                                NaN  NaN     2   \n",
       "277115  11 Профилактика (проверка, backup, обзвон, выезд)  NaN   0,5   \n",
       "277416                                                NaN  NaN   0,5   \n",
       "277481                                                NaN  NaN   0,5   \n",
       "\n",
       "                                                   client  client_tin/bin  \\\n",
       "0                              A02 Beautyprof (бьютипроф)    061140009703   \n",
       "2       A02 HELP (Консалтинговая Группа HELP, ТОО FinS...    070440007589   \n",
       "3       A02 HELP (Консалтинговая Группа HELP, ТОО FinS...    070440007589   \n",
       "5       R Метрополис (ГидроСтройТехнологии METROPOLIS ...    040940001631   \n",
       "7       A02 Мыс Орда (форсгард, ForceGuard ТОО «Охранн...    181140000576   \n",
       "...                                                   ...             ...   \n",
       "276548   А02 ТОО IT Support Group (ITSG, саппорт, сапо...    070940025703   \n",
       "276714                      А02 ТОО \"OK.Медиа\" (ОК медиа)    120540001466   \n",
       "277115                                    A02 КазДинФарма    031240006281   \n",
       "277416   А02 ТОО IT Support Group (ITSG, саппорт, сапо...    070940025703   \n",
       "277481                                                NaN             NaN   \n",
       "\n",
       "       like          marks del_mark  \n",
       "0       NaN  Запланировано       Да  \n",
       "2       NaN  Запланировано       Да  \n",
       "3       NaN  Запланировано       Да  \n",
       "5       NaN      Завершено      Нет  \n",
       "7       NaN      Завершено      Нет  \n",
       "...     ...            ...      ...  \n",
       "276548  NaN          Пауза      Нет  \n",
       "276714  NaN      Завершено      Нет  \n",
       "277115  NaN  Запланировано      Нет  \n",
       "277416  NaN  Запланировано      Нет  \n",
       "277481  NaN  Запланировано      Нет  \n",
       "\n",
       "[1023 rows x 23 columns]"
      ]
     },
     "execution_count": 14,
     "metadata": {},
     "output_type": "execute_result"
    }
   ],
   "source": [
    "crm_raw[crm_raw['project']=='Напоминание']"
   ]
  },
  {
   "cell_type": "code",
   "execution_count": 15,
   "metadata": {},
   "outputs": [],
   "source": [
    "# уберем колонку с индексом\n",
    "\n",
    "crm_raw = crm_raw.drop(['index'], axis=1)"
   ]
  },
  {
   "cell_type": "code",
   "execution_count": 16,
   "metadata": {},
   "outputs": [],
   "source": [
    "# приведем типы дат\n",
    "\n",
    "crm_raw['start'] = pd.to_datetime(crm_raw['start'], dayfirst=True)\n",
    "crm_raw['end'] = pd.to_datetime(crm_raw['end'], dayfirst=True)\n",
    "crm_raw['create'] = pd.to_datetime(crm_raw['create'], dayfirst=True)"
   ]
  },
  {
   "cell_type": "code",
   "execution_count": 56,
   "metadata": {},
   "outputs": [
    {
     "data": {
      "text/html": [
       "<div>\n",
       "<style scoped>\n",
       "    .dataframe tbody tr th:only-of-type {\n",
       "        vertical-align: middle;\n",
       "    }\n",
       "\n",
       "    .dataframe tbody tr th {\n",
       "        vertical-align: top;\n",
       "    }\n",
       "\n",
       "    .dataframe thead th {\n",
       "        text-align: right;\n",
       "    }\n",
       "</style>\n",
       "<table border=\"1\" class=\"dataframe\">\n",
       "  <thead>\n",
       "    <tr style=\"text-align: right;\">\n",
       "      <th></th>\n",
       "      <th>277716</th>\n",
       "    </tr>\n",
       "  </thead>\n",
       "  <tbody>\n",
       "    <tr>\n",
       "      <th>id_ticket</th>\n",
       "      <td>d8d03682-e5a0-4046-8f51-e6675d4513b0</td>\n",
       "    </tr>\n",
       "    <tr>\n",
       "      <th>parrent_id</th>\n",
       "      <td>NaN</td>\n",
       "    </tr>\n",
       "    <tr>\n",
       "      <th>start</th>\n",
       "      <td>2023-11-23 14:06:00</td>\n",
       "    </tr>\n",
       "    <tr>\n",
       "      <th>end</th>\n",
       "      <td>NaT</td>\n",
       "    </tr>\n",
       "    <tr>\n",
       "      <th>create</th>\n",
       "      <td>2023-11-23 14:06:00</td>\n",
       "    </tr>\n",
       "    <tr>\n",
       "      <th>author</th>\n",
       "      <td>Site</td>\n",
       "    </tr>\n",
       "    <tr>\n",
       "      <th>contact_person</th>\n",
       "      <td>01 Еньшин Николай Викторович</td>\n",
       "    </tr>\n",
       "    <tr>\n",
       "      <th>cp_position</th>\n",
       "      <td>Зам. директора</td>\n",
       "    </tr>\n",
       "    <tr>\n",
       "      <th>cp_condition</th>\n",
       "      <td>Работает</td>\n",
       "    </tr>\n",
       "    <tr>\n",
       "      <th>cp_sex</th>\n",
       "      <td>Мужской</td>\n",
       "    </tr>\n",
       "    <tr>\n",
       "      <th>equipment_id</th>\n",
       "      <td>2574-01-20374</td>\n",
       "    </tr>\n",
       "    <tr>\n",
       "      <th>it_name</th>\n",
       "      <td>IT199 Жюкас Алёна</td>\n",
       "    </tr>\n",
       "    <tr>\n",
       "      <th>department</th>\n",
       "      <td>1-линия</td>\n",
       "    </tr>\n",
       "    <tr>\n",
       "      <th>project</th>\n",
       "      <td>Удаленная поддержка 1 линия</td>\n",
       "    </tr>\n",
       "    <tr>\n",
       "      <th>cat</th>\n",
       "      <td>NaN</td>\n",
       "    </tr>\n",
       "    <tr>\n",
       "      <th>norm</th>\n",
       "      <td>NaN</td>\n",
       "    </tr>\n",
       "    <tr>\n",
       "      <th>hours</th>\n",
       "      <td>0,5</td>\n",
       "    </tr>\n",
       "    <tr>\n",
       "      <th>client</th>\n",
       "      <td>A01 ТОО \"Лаурус Управление Капиталом\", Laurus ...</td>\n",
       "    </tr>\n",
       "    <tr>\n",
       "      <th>client_tin/bin</th>\n",
       "      <td>230240032488</td>\n",
       "    </tr>\n",
       "    <tr>\n",
       "      <th>like</th>\n",
       "      <td>NaN</td>\n",
       "    </tr>\n",
       "    <tr>\n",
       "      <th>marks</th>\n",
       "      <td>Запланировано</td>\n",
       "    </tr>\n",
       "    <tr>\n",
       "      <th>del_mark</th>\n",
       "      <td>Нет</td>\n",
       "    </tr>\n",
       "    <tr>\n",
       "      <th>duration</th>\n",
       "      <td>NaT</td>\n",
       "    </tr>\n",
       "    <tr>\n",
       "      <th>duration_hours</th>\n",
       "      <td>NaN</td>\n",
       "    </tr>\n",
       "    <tr>\n",
       "      <th>reaction_time</th>\n",
       "      <td>0 days 00:00:00</td>\n",
       "    </tr>\n",
       "    <tr>\n",
       "      <th>reaction_time_mins</th>\n",
       "      <td>0.0</td>\n",
       "    </tr>\n",
       "  </tbody>\n",
       "</table>\n",
       "</div>"
      ],
      "text/plain": [
       "                                                               277716\n",
       "id_ticket                        d8d03682-e5a0-4046-8f51-e6675d4513b0\n",
       "parrent_id                                                        NaN\n",
       "start                                             2023-11-23 14:06:00\n",
       "end                                                               NaT\n",
       "create                                            2023-11-23 14:06:00\n",
       "author                                                           Site\n",
       "contact_person                           01 Еньшин Николай Викторович\n",
       "cp_position                                            Зам. директора\n",
       "cp_condition                                                 Работает\n",
       "cp_sex                                                        Мужской\n",
       "equipment_id                                            2574-01-20374\n",
       "it_name                                             IT199 Жюкас Алёна\n",
       "department                                                    1-линия\n",
       "project                                   Удаленная поддержка 1 линия\n",
       "cat                                                               NaN\n",
       "norm                                                              NaN\n",
       "hours                                                             0,5\n",
       "client              A01 ТОО \"Лаурус Управление Капиталом\", Laurus ...\n",
       "client_tin/bin                                           230240032488\n",
       "like                                                              NaN\n",
       "marks                                                   Запланировано\n",
       "del_mark                                                          Нет\n",
       "duration                                                          NaT\n",
       "duration_hours                                                    NaN\n",
       "reaction_time                                         0 days 00:00:00\n",
       "reaction_time_mins                                                0.0"
      ]
     },
     "execution_count": 56,
     "metadata": {},
     "output_type": "execute_result"
    }
   ],
   "source": [
    "crm_raw[crm_raw['start'] == crm_raw['start'].max()].T"
   ]
  },
  {
   "cell_type": "code",
   "execution_count": 17,
   "metadata": {},
   "outputs": [
    {
     "data": {
      "text/plain": [
       "cp_condition\n",
       "Работает                233363\n",
       "Уволен                   38677\n",
       "Временно не работает       266\n",
       "7                            1\n",
       "10                           1\n",
       "Name: count, dtype: int64"
      ]
     },
     "execution_count": 17,
     "metadata": {},
     "output_type": "execute_result"
    }
   ],
   "source": [
    "crm_raw['cp_condition'].value_counts()"
   ]
  },
  {
   "cell_type": "code",
   "execution_count": 18,
   "metadata": {},
   "outputs": [
    {
     "data": {
      "text/plain": [
       "id_ticket          0.000720\n",
       "parrent_id        82.641322\n",
       "start              0.000720\n",
       "end                0.109464\n",
       "create             0.000720\n",
       "author             0.000000\n",
       "contact_person     1.155493\n",
       "cp_position       58.229421\n",
       "cp_condition       1.947666\n",
       "cp_sex            10.000468\n",
       "equipment_id      71.424508\n",
       "it_name            0.001440\n",
       "department         0.548400\n",
       "project            0.204165\n",
       "cat                8.533507\n",
       "norm              16.411311\n",
       "hours              0.001440\n",
       "client             0.170317\n",
       "client_tin/bin     2.036246\n",
       "like              94.692799\n",
       "marks              0.001440\n",
       "del_mark           0.001440\n",
       "dtype: float64"
      ]
     },
     "execution_count": 18,
     "metadata": {},
     "output_type": "execute_result"
    }
   ],
   "source": [
    "crm_raw.isnull().mean() * 100\n",
    "\n",
    "#ID оборудования начали нормально записывать только с 2021 года (в половине случаев)"
   ]
  },
  {
   "cell_type": "code",
   "execution_count": 19,
   "metadata": {},
   "outputs": [],
   "source": [
    "crm_raw['duration'] = crm_raw['end'] - crm_raw['start']"
   ]
  },
  {
   "cell_type": "code",
   "execution_count": 20,
   "metadata": {},
   "outputs": [],
   "source": [
    "crm_raw['duration_hours'] = crm_raw['duration'].dt.total_seconds() / 3600"
   ]
  },
  {
   "cell_type": "code",
   "execution_count": 21,
   "metadata": {},
   "outputs": [
    {
     "data": {
      "text/plain": [
       "<Axes: >"
      ]
     },
     "execution_count": 21,
     "metadata": {},
     "output_type": "execute_result"
    },
    {
     "data": {
      "image/png": "[encoded data removed]",
      "text/plain": [
       "<Figure size 640x480 with 1 Axes>"
      ]
     },
     "metadata": {},
     "output_type": "display_data"
    }
   ],
   "source": [
    "crm_raw[(crm_raw['duration_hours'] < 100) & (crm_raw['duration_hours'] > 0)]['duration_hours'].hist()"
   ]
  },
  {
   "cell_type": "code",
   "execution_count": 22,
   "metadata": {},
   "outputs": [
    {
     "data": {
      "text/plain": [
       "240.98333333333332"
      ]
     },
     "execution_count": 22,
     "metadata": {},
     "output_type": "execute_result"
    }
   ],
   "source": [
    "crm_raw['duration_hours'].quantile(0.15)\n",
    "crm_raw['duration_hours'].quantile(0.95)"
   ]
  },
  {
   "cell_type": "code",
   "execution_count": 23,
   "metadata": {},
   "outputs": [
    {
     "data": {
      "text/plain": [
       "Text(0, 0.5, 'количество заявок')"
      ]
     },
     "execution_count": 23,
     "metadata": {},
     "output_type": "execute_result"
    },
    {
     "data": {
      "image/png": "[encoded data removed]",
      "text/plain": [
       "<Figure size 640x480 with 1 Axes>"
      ]
     },
     "metadata": {},
     "output_type": "display_data"
    }
   ],
   "source": [
    "plt.hist(crm_raw[(crm_raw['duration_hours'] < crm_raw['duration_hours'].quantile(0.10)) & (crm_raw['duration_hours'] > -100)]['duration_hours'], bins=30);\n",
    "plt.title('Распределение заявок с отрицательной длительностью')\n",
    "plt.xlabel('длительность в часах')\n",
    "plt.ylabel('количество заявок')"
   ]
  },
  {
   "cell_type": "code",
   "execution_count": 24,
   "metadata": {},
   "outputs": [
    {
     "data": {
      "text/plain": [
       "Text(0, 0.5, 'количество заявок')"
      ]
     },
     "execution_count": 24,
     "metadata": {},
     "output_type": "execute_result"
    },
    {
     "data": {
      "image/png": "[encoded data removed]",
      "text/plain": [
       "<Figure size 640x480 with 1 Axes>"
      ]
     },
     "metadata": {},
     "output_type": "display_data"
    }
   ],
   "source": [
    "# распределение длительности заявок в квантилях 0.1 и 0.9\n",
    "\n",
    "plt.hist(crm_raw[(crm_raw['duration_hours'] > crm_raw['duration_hours'].quantile(0.25)) & (crm_raw['duration_hours'] < crm_raw['duration_hours'].quantile(0.75))]['duration_hours'], bins=30);\n",
    "plt.title('Распределение заявок в квантилях 0.1 - 0.9')\n",
    "plt.xlabel('длительность в часах')\n",
    "plt.ylabel('количество заявок')"
   ]
  },
  {
   "cell_type": "code",
   "execution_count": 25,
   "metadata": {},
   "outputs": [
    {
     "data": {
      "text/plain": [
       "Text(0, 0.5, 'количество заявок')"
      ]
     },
     "execution_count": 25,
     "metadata": {},
     "output_type": "execute_result"
    },
    {
     "data": {
      "image/png": "[encoded data removed]",
      "text/plain": [
       "<Figure size 640x480 with 1 Axes>"
      ]
     },
     "metadata": {},
     "output_type": "display_data"
    }
   ],
   "source": [
    "#прологарифмируем\n",
    "\n",
    "plt.hist(np.log(crm_raw[(crm_raw['duration_hours'] > crm_raw['duration_hours'].quantile(0.2)) & (crm_raw['duration_hours'] < crm_raw['duration_hours'].quantile(0.9))]['duration_hours']), bins=40);\n",
    "plt.title('Распределение заявок в квантилях 0.2 - 0.9')\n",
    "plt.xlabel('длительность в часах (log)')\n",
    "plt.ylabel('количество заявок')"
   ]
  },
  {
   "cell_type": "code",
   "execution_count": 26,
   "metadata": {},
   "outputs": [
    {
     "data": {
      "text/plain": [
       "Text(0, 0.5, 'длительность в часах')"
      ]
     },
     "execution_count": 26,
     "metadata": {},
     "output_type": "execute_result"
    },
    {
     "data": {
      "image/png": "[encoded data removed]",
      "text/plain": [
       "<Figure size 640x480 with 1 Axes>"
      ]
     },
     "metadata": {},
     "output_type": "display_data"
    }
   ],
   "source": [
    "# построим ящик с усами\n",
    "\n",
    "plt.boxplot(crm_raw[(crm_raw['duration_hours'] > crm_raw['duration_hours'].quantile(0.1)) & (crm_raw['duration_hours'] < crm_raw['duration_hours'].quantile(0.9))]['duration_hours']);\n",
    "plt.title('Распределение заявок в квантилях 0.1 - 0.9')\n",
    "plt.ylabel('длительность в часах')\n",
    "\n",
    "# наблюдается большое количество выбросов"
   ]
  },
  {
   "cell_type": "code",
   "execution_count": 27,
   "metadata": {},
   "outputs": [],
   "source": [
    "# обнаружилось много значений разницы во времени меньше нуля, возможно перепутан знак\n",
    "# проверим распределение по годам\n",
    "\n",
    "index_neg = crm_raw[(crm_raw['duration_hours'] < 0) & (crm_raw['duration_hours'] > -10)]['duration_hours'].index"
   ]
  },
  {
   "cell_type": "code",
   "execution_count": 28,
   "metadata": {},
   "outputs": [
    {
     "data": {
      "image/png": "[encoded data removed]",
      "text/plain": [
       "<Figure size 640x480 with 1 Axes>"
      ]
     },
     "metadata": {},
     "output_type": "display_data"
    }
   ],
   "source": [
    "grouped = crm_raw[(crm_raw['duration_hours'] < 0)].groupby(crm_raw['end'].dt.year)\n",
    "\n",
    "# Вычисление количества записей в каждой группе\n",
    "counts = grouped.size()\n",
    "\n",
    "# Создание гистограммы\n",
    "plt.bar(counts.index, counts.values)\n",
    "\n",
    "# как видно с 2022 года таких показателей стало меньше. Длительность заявки это целевая переменная,\n",
    "# поэтому надо максимально осторожно с ней работать, пока займемся другими данными\n",
    "\n",
    "plt.title('заявки с отрицательной длительностью по годам')\n",
    "plt.ylabel('количество заявок')\n",
    "plt.xlabel('годы');"
   ]
  },
  {
   "cell_type": "code",
   "execution_count": 29,
   "metadata": {},
   "outputs": [
    {
     "data": {
      "text/plain": [
       "id_ticket                      21e81ef8-9200-11eb-88d3-7824af865b1b\n",
       "parrent_id                                                      NaN\n",
       "start                                           2021-03-31 15:04:00\n",
       "end                                             2021-03-26 12:30:00\n",
       "create                                          2021-03-26 12:00:00\n",
       "author                                    IT197 БШ Степанов Николай\n",
       "contact_person                                        02 ДЛЯ ЗАЯВОК\n",
       "cp_position                                                     NaN\n",
       "cp_condition                                               Работает\n",
       "cp_sex                                                          NaN\n",
       "equipment_id                                                    NaN\n",
       "it_name                                   IT197 БШ Степанов Николай\n",
       "department                                              Бейнеу (БШ)\n",
       "project                                        Выездные специалисты\n",
       "cat                        3 Почта (настройка, создание, редиректы)\n",
       "norm                                                           10.0\n",
       "hours                                                           0,5\n",
       "client            A02 РЭЦЦА (Региональный Экологический Центр Це...\n",
       "client_tin/bin                                         000840004506\n",
       "like                                                            NaN\n",
       "marks                                                     Завершено\n",
       "del_mark                                                        Нет\n",
       "duration                                          -6 days +21:26:00\n",
       "duration_hours                                          -122.566667\n",
       "Name: 103002, dtype: object"
      ]
     },
     "execution_count": 29,
     "metadata": {},
     "output_type": "execute_result"
    }
   ],
   "source": [
    "crm_raw.iloc[103002]"
   ]
  },
  {
   "cell_type": "code",
   "execution_count": null,
   "metadata": {},
   "outputs": [],
   "source": []
  },
  {
   "cell_type": "code",
   "execution_count": 30,
   "metadata": {},
   "outputs": [],
   "source": [
    "# посчитаем время в минутах от регистрации до старта\n",
    "\n",
    "crm_raw['reaction_time'] = crm_raw['start'] - crm_raw['create']"
   ]
  },
  {
   "cell_type": "code",
   "execution_count": 46,
   "metadata": {},
   "outputs": [
    {
     "data": {
      "image/png": "[encoded data removed]",
      "text/plain": [
       "<Figure size 640x480 with 1 Axes>"
      ]
     },
     "metadata": {},
     "output_type": "display_data"
    }
   ],
   "source": [
    "# вычисляем среднее время реакции по годам\n",
    "\n",
    "crm_raw['reaction_time_mins'] = crm_raw['reaction_time'].dt.total_seconds() / 60\n",
    "\n",
    "grouped_react = crm_raw[(crm_raw['reaction_time_mins'] > 0) & (crm_raw['end'].dt.year >= 2022)].groupby(crm_raw['end'].dt.year)\n",
    "\n",
    "# Вычисление количества записей в каждой группе\n",
    "counts = grouped_react['reaction_time_mins'].mean()\n",
    "\n",
    "# Создание гистограммы\n",
    "plt.bar(counts.index, counts.values)\n",
    "plt.title('Среднее время реакции в минутах \\n до очистки данных')\n",
    "plt.ylabel('минуты')\n",
    "plt.xlabel('месяцы');"
   ]
  },
  {
   "cell_type": "code",
   "execution_count": 69,
   "metadata": {},
   "outputs": [
    {
     "data": {
      "text/plain": [
       "Text(0, 0.5, 'количество заявок')"
      ]
     },
     "execution_count": 69,
     "metadata": {},
     "output_type": "execute_result"
    },
    {
     "data": {
      "image/png": "[encoded data removed]",
      "text/plain": [
       "<Figure size 640x480 with 1 Axes>"
      ]
     },
     "metadata": {},
     "output_type": "display_data"
    }
   ],
   "source": [
    "# посмотрим распределение длительности реакции\n",
    "\n",
    "plt.hist(crm_raw[(crm_raw['reaction_time_mins'] > crm_raw['reaction_time_mins'].quantile(0.1)) & (crm_raw['reaction_time_mins'] < crm_raw['reaction_time_mins'].quantile(0.9))]['reaction_time_mins'], bins=30);\n",
    "plt.title('Распределение длительности \\n реакции на заявку в квантилях 0.1 -  0.9')\n",
    "plt.xlabel('длительность в минутах')\n",
    "plt.ylabel('количество заявок')\n",
    "\n",
    "# в данных есть выбросы, которые сильно искажают результаты"
   ]
  },
  {
   "cell_type": "code",
   "execution_count": 70,
   "metadata": {},
   "outputs": [
    {
     "data": {
      "text/plain": [
       "Text(0, 0.5, 'количество заявок')"
      ]
     },
     "execution_count": 70,
     "metadata": {},
     "output_type": "execute_result"
    },
    {
     "data": {
      "image/png": "[encoded data removed]",
      "text/plain": [
       "<Figure size 640x480 with 1 Axes>"
      ]
     },
     "metadata": {},
     "output_type": "display_data"
    }
   ],
   "source": [
    "# посмотрим распределение длительности реакции в логарифмической шкале\n",
    "\n",
    "plt.hist(np.log(crm_raw[(crm_raw['reaction_time_mins'] > crm_raw['reaction_time_mins'].quantile(0.1)) & (crm_raw['reaction_time_mins'] < crm_raw['reaction_time_mins'].quantile(0.9))]['reaction_time_mins']), bins=50);\n",
    "plt.title('Распределение длительности \\n реакции на заявку в квантилях 0.1 -  0.9')\n",
    "plt.xlabel('длительность в минутах (log)')\n",
    "plt.ylabel('количество заявок')\n",
    "\n",
    "# распределение не нормальное"
   ]
  },
  {
   "cell_type": "code",
   "execution_count": 71,
   "metadata": {},
   "outputs": [
    {
     "data": {
      "text/plain": [
       "Text(0, 0.5, 'Длительность исполнения заявки в часах')"
      ]
     },
     "execution_count": 71,
     "metadata": {},
     "output_type": "execute_result"
    },
    {
     "data": {
      "image/png": "[encoded data removed]",
      "text/plain": [
       "<Figure size 800x500 with 2 Axes>"
      ]
     },
     "metadata": {},
     "output_type": "display_data"
    }
   ],
   "source": [
    "# построим диаграмму распределения \n",
    "\n",
    "fig, ax = plt.subplots(1, 2, figsize=(8, 5))\n",
    "\n",
    "ax[0].boxplot(crm_raw[(crm_raw['reaction_time_mins'] > crm_raw['reaction_time_mins'].quantile(0.1)) & (crm_raw['reaction_time_mins'] < crm_raw['reaction_time_mins'].quantile(0.9))]['reaction_time_mins']);\n",
    "ax[0].set_title('Распределение длительности \\n реакции на заявку в квантилях 0.1 -  0.9', fontsize = 8)\n",
    "ax[0].set_ylabel('Распределение длительности реакции в минутах', fontsize = 8)\n",
    "\n",
    "fig.subplots_adjust(wspace=0.5)\n",
    "\n",
    "ax[1].boxplot(crm_raw[(crm_raw['duration_hours'] > crm_raw['duration_hours'].quantile(0.1)) & (crm_raw['duration_hours'] < crm_raw['duration_hours'].quantile(0.9))]['duration_hours']);\n",
    "ax[1].set_title('Длительность исполнения заявок \\n в квантилях 0.1 - 0.9', fontsize = 8)\n",
    "ax[1].set_ylabel('Длительность исполнения заявки в часах', fontsize = 8)"
   ]
  },
  {
   "cell_type": "code",
   "execution_count": 72,
   "metadata": {},
   "outputs": [
    {
     "name": "stdout",
     "output_type": "stream",
     "text": [
      "<class 'pandas.core.frame.DataFrame'>\n",
      "RangeIndex: 277717 entries, 0 to 277716\n",
      "Data columns (total 26 columns):\n",
      " #   Column              Non-Null Count   Dtype          \n",
      "---  ------              --------------   -----          \n",
      " 0   id_ticket           277715 non-null  object         \n",
      " 1   parrent_id          48208 non-null   object         \n",
      " 2   start               277715 non-null  datetime64[ns] \n",
      " 3   end                 277413 non-null  datetime64[ns] \n",
      " 4   create              277715 non-null  datetime64[ns] \n",
      " 5   author              277717 non-null  object         \n",
      " 6   contact_person      274508 non-null  object         \n",
      " 7   cp_position         116004 non-null  object         \n",
      " 8   cp_condition        272308 non-null  object         \n",
      " 9   cp_sex              249944 non-null  object         \n",
      " 10  equipment_id        79359 non-null   object         \n",
      " 11  it_name             277713 non-null  object         \n",
      " 12  department          276194 non-null  object         \n",
      " 13  project             277150 non-null  object         \n",
      " 14  cat                 254018 non-null  object         \n",
      " 15  norm                232140 non-null  float64        \n",
      " 16  hours               277713 non-null  object         \n",
      " 17  client              277244 non-null  object         \n",
      " 18  client_tin/bin      272062 non-null  object         \n",
      " 19  like                14739 non-null   object         \n",
      " 20  marks               277713 non-null  object         \n",
      " 21  del_mark            277713 non-null  object         \n",
      " 22  duration            277413 non-null  timedelta64[ns]\n",
      " 23  duration_hours      277413 non-null  float64        \n",
      " 24  reaction_time       277715 non-null  timedelta64[ns]\n",
      " 25  reaction_time_mins  277715 non-null  float64        \n",
      "dtypes: datetime64[ns](3), float64(3), object(18), timedelta64[ns](2)\n",
      "memory usage: 55.1+ MB\n"
     ]
    }
   ],
   "source": [
    "crm_raw.info()"
   ]
  },
  {
   "cell_type": "code",
   "execution_count": 73,
   "metadata": {},
   "outputs": [],
   "source": [
    "no_id = crm_raw[(crm_raw['create'].dt.year ==2023) & (crm_raw['equipment_id'].isnull())].sample(100)"
   ]
  },
  {
   "cell_type": "code",
   "execution_count": 74,
   "metadata": {},
   "outputs": [],
   "source": [
    "no_id.to_csv('no_id_sample100.csv')"
   ]
  },
  {
   "cell_type": "code",
   "execution_count": 75,
   "metadata": {},
   "outputs": [
    {
     "name": "stdout",
     "output_type": "stream",
     "text": [
      "Index(['1-линия', 'Серверный специалист Windows (Виндовс)',\n",
      "       'Выездные специалисты', 'Маслодел', 'Проектный менеджер ITSG проектов',\n",
      "       '3-линия', '2-линия', 'Сервис', 'Ремонт оргтехники', 'Астана', 'АУП',\n",
      "       'Проектный менеджер по клиентам', 'ФудМастер (ФМ)',\n",
      "       'Серверные специалисты', 'Альстом (Алм)',\n",
      "       'Серверный специалист Linux (Линукс)', 'Отдел активных продаж',\n",
      "       'Шымкент', 'Бухгалтерия', 'Отдел продаж 2-я линия',\n",
      "       'Отдел продаж 1-я линия', 'Бейнеу (БШ)', 'HR', 'МИТУ', 'CWT (СВТ)',\n",
      "       'Сервье', 'AETZ (АЕТЗ)', 'RCG (РСГ)', 'НИИ', 'ЭКОС',\n",
      "       'Руководитель удаленной поддержки', 'Отдел продаж', 'BAT (БАТ)', 'PMI',\n",
      "       'Lucent (Люсент)', 'Диалог', 'Джонсон', 'Avitim', 'Все подразделения',\n",
      "       'Travel Plus (Тревел плюс)', 'JTI (ДжиТиАй)', 'Удаленная IT поддержка',\n",
      "       'РЭЦЦА', 'Досжан Темир жолы (ДТ)', 'Иностры',\n",
      "       'RG Brands (переданные задачи)', 'Помеченное на удаление или пустое',\n",
      "       'RTE', 'EFES (Эфес)'],\n",
      "      dtype='object', name='department')\n"
     ]
    }
   ],
   "source": [
    "server_spec = [\n",
    "    'Серверный специалист Windows (Виндовс)',\n",
    "    'Серверные специалисты',\n",
    "    'Серверный специалист Linux (Линукс)',\n",
    "    ]\n",
    "\n",
    "\n",
    "\n",
    "print(crm_raw['department'].value_counts().index)\n"
   ]
  },
  {
   "cell_type": "code",
   "execution_count": 95,
   "metadata": {},
   "outputs": [],
   "source": [
    "crm_raw['hours'] = crm_raw['hours'].astype(str)\n",
    "\n",
    "crm_raw['hours'] = crm_raw['hours'].apply(lambda x: x.replace(',','.'))\n"
   ]
  },
  {
   "cell_type": "code",
   "execution_count": 96,
   "metadata": {},
   "outputs": [],
   "source": [
    "crm_raw['hours'] = crm_raw['hours'].astype(float)"
   ]
  },
  {
   "cell_type": "code",
   "execution_count": 106,
   "metadata": {},
   "outputs": [],
   "source": [
    "october_only = crm_raw[(crm_raw['create'].dt.year == 2023) & (crm_raw['create'].dt.month == 10)]"
   ]
  },
  {
   "cell_type": "code",
   "execution_count": 111,
   "metadata": {},
   "outputs": [],
   "source": [
    "october_only_server = october_only[october_only['department'].isin(server_spec)]\n",
    "october_only_outstaff = "
   ]
  },
  {
   "cell_type": "code",
   "execution_count": 148,
   "metadata": {},
   "outputs": [],
   "source": [
    "vigr_hours = october_only_server.groupby('client')['hours'].agg(sum)"
   ]
  },
  {
   "cell_type": "code",
   "execution_count": 150,
   "metadata": {},
   "outputs": [],
   "source": [
    "vigr_hours.to_csv('vigr_hours_october_clietns.csv')"
   ]
  },
  {
   "cell_type": "code",
   "execution_count": 120,
   "metadata": {},
   "outputs": [],
   "source": [
    "df_zones = pd.read_excel('/Users/andreykhalov/HULK/PHD/ITSG_research/data/dima_061223/clients_analitics_061223.xlsx')\n",
    "df_zones.drop_duplicates(inplace=True)"
   ]
  },
  {
   "cell_type": "code",
   "execution_count": 142,
   "metadata": {},
   "outputs": [
    {
     "name": "stdout",
     "output_type": "stream",
     "text": [
      "<class 'pandas.core.frame.DataFrame'>\n",
      "Index: 263 entries, 0 to 273\n",
      "Data columns (total 32 columns):\n",
      " #   Column                            Non-Null Count  Dtype  \n",
      "---  ------                            --------------  -----  \n",
      " 0   Unnamed: 0                        0 non-null      float64\n",
      " 1   №                                 251 non-null    object \n",
      " 2   Юр. лицо                          241 non-null    object \n",
      " 3   Контрагент                        242 non-null    object \n",
      " 4   По факту (сумма в счете без НДС)  252 non-null    object \n",
      " 5   Обслуживание ПК                   201 non-null    object \n",
      " 6   Обслуживание ПК Себест            17 non-null     object \n",
      " 7   Маржа                             6 non-null      object \n",
      " 8   Аутсорсинг (Авдошкин И.)          26 non-null     object \n",
      " 9   Аутсорсинг (Авдошкин И.) Себест   17 non-null     object \n",
      " 10  Маржа.1                           6 non-null      object \n",
      " 11  Аутстаффинг                       36 non-null     object \n",
      " 12  Аутстаффинг себест.               35 non-null     object \n",
      " 13  Маржа.2                           31 non-null     object \n",
      " 14  Обслуживание серверов             139 non-null    object \n",
      " 15  Обслуживание серверов Себест      17 non-null     object \n",
      " 16  Маржа.3                           6 non-null      object \n",
      " 17  Прочие услуги (с пояснением)      41 non-null     object \n",
      " 18  Прочие услуги (с пояснением).1    17 non-null     object \n",
      " 19  Маржа.4                           0 non-null      float64\n",
      " 20  Аренда облачного сервера          56 non-null     object \n",
      " 21  Аренда облачного сервера Себест   45 non-null     object \n",
      " 22  Маржа.5                           38 non-null     object \n",
      " 23  Задолженность на 26.10.2023       94 non-null     object \n",
      " 24  НДС                               84 non-null     object \n",
      " 25  Комментарий                       17 non-null     object \n",
      " 26  Задолженность                     53 non-null     object \n",
      " 27  Дата начала договора              177 non-null    object \n",
      " 28  Unnamed: 28                       0 non-null      float64\n",
      " 29  Доход                             234 non-null    float64\n",
      " 30  Расход                            234 non-null    float64\n",
      " 31  Рентаб                            226 non-null    float64\n",
      "dtypes: float64(6), object(26)\n",
      "memory usage: 67.8+ KB\n"
     ]
    }
   ],
   "source": [
    "df_zones.info()"
   ]
  },
  {
   "cell_type": "code",
   "execution_count": 125,
   "metadata": {},
   "outputs": [],
   "source": [
    "df_buh = pd.read_csv('/Users/andreykhalov/HULK/PHD/ITSG_research/data/raw_data/Ноябрь 2023 выгрузка/CSV/buhnya_23.csv', sep=';')"
   ]
  },
  {
   "cell_type": "code",
   "execution_count": 130,
   "metadata": {},
   "outputs": [],
   "source": [
    "df_buh['date_issued'] = pd.to_datetime(df_buh['date_issued'], dayfirst=True)"
   ]
  },
  {
   "cell_type": "code",
   "execution_count": 131,
   "metadata": {},
   "outputs": [],
   "source": [
    "df_buh_october = df_buh[(df_buh['date_issued'].dt.year == 2023) & (df_buh['date_issued'].dt.month == 10)]"
   ]
  },
  {
   "cell_type": "code",
   "execution_count": 144,
   "metadata": {},
   "outputs": [
    {
     "data": {
      "text/html": [
       "<div>\n",
       "<style scoped>\n",
       "    .dataframe tbody tr th:only-of-type {\n",
       "        vertical-align: middle;\n",
       "    }\n",
       "\n",
       "    .dataframe tbody tr th {\n",
       "        vertical-align: top;\n",
       "    }\n",
       "\n",
       "    .dataframe thead th {\n",
       "        text-align: right;\n",
       "    }\n",
       "</style>\n",
       "<table border=\"1\" class=\"dataframe\">\n",
       "  <thead>\n",
       "    <tr style=\"text-align: right;\">\n",
       "      <th></th>\n",
       "      <th>index</th>\n",
       "      <th>id_realisation</th>\n",
       "      <th>date_issued</th>\n",
       "      <th>author</th>\n",
       "      <th>it_name</th>\n",
       "      <th>company_name</th>\n",
       "      <th>company_bin</th>\n",
       "      <th>main_cp</th>\n",
       "      <th>item</th>\n",
       "      <th>price</th>\n",
       "      <th>quan</th>\n",
       "      <th>summ_corr</th>\n",
       "      <th>seller</th>\n",
       "    </tr>\n",
       "  </thead>\n",
       "  <tbody>\n",
       "    <tr>\n",
       "      <th>36594</th>\n",
       "      <td>36595</td>\n",
       "      <td>ce83fa67-61b1-11ee-86a4-c4346bb7a003</td>\n",
       "      <td>2023-10-03 11:58:00</td>\n",
       "      <td>IT196 Родионова Татьяна</td>\n",
       "      <td>IT144 Есева Елена</td>\n",
       "      <td>НИИ глазных болезней</td>\n",
       "      <td>9.902400e+11</td>\n",
       "      <td>NaN</td>\n",
       "      <td>SIP - телефон Yealink SIP - T30.  1 аккаунт</td>\n",
       "      <td>24650.0</td>\n",
       "      <td>1</td>\n",
       "      <td>24650</td>\n",
       "      <td>ТОО \" IT SUPPORT GROUP \"</td>\n",
       "    </tr>\n",
       "    <tr>\n",
       "      <th>36794</th>\n",
       "      <td>36795</td>\n",
       "      <td>95e42e88-6e5e-11ee-86a5-c4346bb7a003</td>\n",
       "      <td>2023-10-19 15:05:00</td>\n",
       "      <td>IT186 Аширова Арзыгуль</td>\n",
       "      <td>IT144 Есева Елена</td>\n",
       "      <td>НИИ глазных болезней</td>\n",
       "      <td>9.902400e+11</td>\n",
       "      <td>NaN</td>\n",
       "      <td>SIP-телефон Yealink SIP-T30,1 аккаунт</td>\n",
       "      <td>24650.0</td>\n",
       "      <td>1</td>\n",
       "      <td>24650</td>\n",
       "      <td>ТОО \" IT SUPPORT GROUP \"</td>\n",
       "    </tr>\n",
       "    <tr>\n",
       "      <th>36795</th>\n",
       "      <td>36796</td>\n",
       "      <td>bf659ffa-6e5e-11ee-86a5-c4346bb7a003</td>\n",
       "      <td>2023-10-19 15:06:00</td>\n",
       "      <td>IT186 Аширова Арзыгуль</td>\n",
       "      <td>IT144 Есева Елена</td>\n",
       "      <td>НИИ глазных болезней</td>\n",
       "      <td>9.902400e+11</td>\n",
       "      <td>NaN</td>\n",
       "      <td>SIP-телефон Yealink SIP-T30,1 аккаунт</td>\n",
       "      <td>24650.0</td>\n",
       "      <td>1</td>\n",
       "      <td>24650</td>\n",
       "      <td>ТОО \" IT SUPPORT GROUP \"</td>\n",
       "    </tr>\n",
       "    <tr>\n",
       "      <th>37371</th>\n",
       "      <td>37372</td>\n",
       "      <td>2cf86e7c-779c-11ee-86a5-c4346bb7a003</td>\n",
       "      <td>2023-10-31 23:59:00</td>\n",
       "      <td>IT144 Есева Елена</td>\n",
       "      <td>IT144 Есева Елена</td>\n",
       "      <td>НИИ глазных болезней</td>\n",
       "      <td>9.902400e+11</td>\n",
       "      <td>NaN</td>\n",
       "      <td>Абонентское обслуживание парка ПК на базе серв...</td>\n",
       "      <td>1250000.0</td>\n",
       "      <td>1</td>\n",
       "      <td>1250000</td>\n",
       "      <td>ТОО \"IT Решения для бизнеса\"</td>\n",
       "    </tr>\n",
       "    <tr>\n",
       "      <th>37396</th>\n",
       "      <td>37397</td>\n",
       "      <td>804c5f12-7d5a-11ee-86a5-c4346bb7a003</td>\n",
       "      <td>2023-10-31 23:59:00</td>\n",
       "      <td>IT196 Родионова Татьяна</td>\n",
       "      <td>IT144 Есева Елена</td>\n",
       "      <td>НИИ глазных болезней</td>\n",
       "      <td>9.902400e+11</td>\n",
       "      <td>NaN</td>\n",
       "      <td>Дополнительные услуги в рамках обслуживания AS...</td>\n",
       "      <td>144500.0</td>\n",
       "      <td>1</td>\n",
       "      <td>144500</td>\n",
       "      <td>ТОО \"IT Решения для бизнеса\"</td>\n",
       "    </tr>\n",
       "    <tr>\n",
       "      <th>37417</th>\n",
       "      <td>37418</td>\n",
       "      <td>2cf86e7c-779c-11ee-86a5-c4346bb7a003</td>\n",
       "      <td>2023-10-31 23:59:00</td>\n",
       "      <td>IT144 Есева Елена</td>\n",
       "      <td>IT144 Есева Елена</td>\n",
       "      <td>НИИ глазных болезней</td>\n",
       "      <td>9.902400e+11</td>\n",
       "      <td>NaN</td>\n",
       "      <td>Абонентское обслуживание парка ПК на базе серв...</td>\n",
       "      <td>140000.0</td>\n",
       "      <td>1</td>\n",
       "      <td>140000</td>\n",
       "      <td>ТОО \"IT Решения для бизнеса\"</td>\n",
       "    </tr>\n",
       "  </tbody>\n",
       "</table>\n",
       "</div>"
      ],
      "text/plain": [
       "       index                        id_realisation         date_issued  \\\n",
       "36594  36595  ce83fa67-61b1-11ee-86a4-c4346bb7a003 2023-10-03 11:58:00   \n",
       "36794  36795  95e42e88-6e5e-11ee-86a5-c4346bb7a003 2023-10-19 15:05:00   \n",
       "36795  36796  bf659ffa-6e5e-11ee-86a5-c4346bb7a003 2023-10-19 15:06:00   \n",
       "37371  37372  2cf86e7c-779c-11ee-86a5-c4346bb7a003 2023-10-31 23:59:00   \n",
       "37396  37397  804c5f12-7d5a-11ee-86a5-c4346bb7a003 2023-10-31 23:59:00   \n",
       "37417  37418  2cf86e7c-779c-11ee-86a5-c4346bb7a003 2023-10-31 23:59:00   \n",
       "\n",
       "                        author            it_name          company_name  \\\n",
       "36594  IT196 Родионова Татьяна  IT144 Есева Елена  НИИ глазных болезней   \n",
       "36794   IT186 Аширова Арзыгуль  IT144 Есева Елена  НИИ глазных болезней   \n",
       "36795   IT186 Аширова Арзыгуль  IT144 Есева Елена  НИИ глазных болезней   \n",
       "37371        IT144 Есева Елена  IT144 Есева Елена  НИИ глазных болезней   \n",
       "37396  IT196 Родионова Татьяна  IT144 Есева Елена  НИИ глазных болезней   \n",
       "37417        IT144 Есева Елена  IT144 Есева Елена  НИИ глазных болезней   \n",
       "\n",
       "        company_bin main_cp  \\\n",
       "36594  9.902400e+11     NaN   \n",
       "36794  9.902400e+11     NaN   \n",
       "36795  9.902400e+11     NaN   \n",
       "37371  9.902400e+11     NaN   \n",
       "37396  9.902400e+11     NaN   \n",
       "37417  9.902400e+11     NaN   \n",
       "\n",
       "                                                    item      price  quan  \\\n",
       "36594        SIP - телефон Yealink SIP - T30.  1 аккаунт    24650.0     1   \n",
       "36794              SIP-телефон Yealink SIP-T30,1 аккаунт    24650.0     1   \n",
       "36795              SIP-телефон Yealink SIP-T30,1 аккаунт    24650.0     1   \n",
       "37371  Абонентское обслуживание парка ПК на базе серв...  1250000.0     1   \n",
       "37396  Дополнительные услуги в рамках обслуживания AS...   144500.0     1   \n",
       "37417  Абонентское обслуживание парка ПК на базе серв...   140000.0     1   \n",
       "\n",
       "       summ_corr                        seller  \n",
       "36594      24650      ТОО \" IT SUPPORT GROUP \"  \n",
       "36794      24650      ТОО \" IT SUPPORT GROUP \"  \n",
       "36795      24650      ТОО \" IT SUPPORT GROUP \"  \n",
       "37371    1250000  ТОО \"IT Решения для бизнеса\"  \n",
       "37396     144500  ТОО \"IT Решения для бизнеса\"  \n",
       "37417     140000  ТОО \"IT Решения для бизнеса\"  "
      ]
     },
     "execution_count": 144,
     "metadata": {},
     "output_type": "execute_result"
    }
   ],
   "source": [
    "df_buh_october[df_buh_october['company_name'] == 'НИИ глазных болезней']"
   ]
  },
  {
   "cell_type": "code",
   "execution_count": 145,
   "metadata": {},
   "outputs": [],
   "source": [
    "vigr = df_buh_october.groupby(['seller', 'company_name'])['price'].agg(sum)"
   ]
  },
  {
   "cell_type": "code",
   "execution_count": 147,
   "metadata": {},
   "outputs": [],
   "source": [
    "vigr.to_csv('vigr_test.csv')"
   ]
  }
 ],
 "metadata": {
  "kernelspec": {
   "display_name": "mipt_advanceML",
   "language": "python",
   "name": "python3"
  },
  "language_info": {
   "codemirror_mode": {
    "name": "ipython",
    "version": 3
   },
   "file_extension": ".py",
   "mimetype": "text/x-python",
   "name": "python",
   "nbconvert_exporter": "python",
   "pygments_lexer": "ipython3",
   "version": "3.10.13"
  }
 },
 "nbformat": 4,
 "nbformat_minor": 2
}
